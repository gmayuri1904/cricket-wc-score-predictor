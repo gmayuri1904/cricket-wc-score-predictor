{
 "cells": [
  {
   "cell_type": "code",
   "execution_count": 1,
   "id": "477b0792",
   "metadata": {},
   "outputs": [],
   "source": [
    "import pandas as pd\n",
    "import numpy as np\n",
    "from yaml import safe_load\n",
    "import os\n",
    "from tqdm import tqdm\n",
    "import pickle"
   ]
  },
  {
   "cell_type": "code",
   "execution_count": 2,
   "id": "b1421a27",
   "metadata": {},
   "outputs": [],
   "source": [
    "filenames=[]\n",
    "for file in os.listdir('data'):\n",
    "    filenames.append(os.path.join('data',file))"
   ]
  },
  {
   "cell_type": "code",
   "execution_count": 3,
   "id": "ac95941b",
   "metadata": {},
   "outputs": [
    {
     "data": {
      "text/plain": [
       "['data\\\\1001349.yaml',\n",
       " 'data\\\\1001351.yaml',\n",
       " 'data\\\\1001353.yaml',\n",
       " 'data\\\\1004729.yaml',\n",
       " 'data\\\\1007655.yaml']"
      ]
     },
     "execution_count": 3,
     "metadata": {},
     "output_type": "execute_result"
    }
   ],
   "source": [
    "filenames[0:5]"
   ]
  },
  {
   "cell_type": "code",
   "execution_count": 4,
   "id": "57db883c",
   "metadata": {},
   "outputs": [
    {
     "name": "stderr",
     "output_type": "stream",
     "text": [
      "  0%|                                                                                         | 0/1433 [00:00<?, ?it/s]C:\\Users\\gaikw_000\\AppData\\Local\\Temp\\ipykernel_7332\\2861312848.py:7: FutureWarning: The frame.append method is deprecated and will be removed from pandas in a future version. Use pandas.concat instead.\n",
      "  final_df=final_df.append(df)\n",
      "  0%|                                                                                 | 1/1433 [00:01<29:22,  1.23s/it]C:\\Users\\gaikw_000\\AppData\\Local\\Temp\\ipykernel_7332\\2861312848.py:7: FutureWarning: The frame.append method is deprecated and will be removed from pandas in a future version. Use pandas.concat instead.\n",
      "  final_df=final_df.append(df)\n",
      "  0%|                                                                                 | 2/1433 [00:01<17:13,  1.38it/s]C:\\Users\\gaikw_000\\AppData\\Local\\Temp\\ipykernel_7332\\2861312848.py:7: FutureWarning: The frame.append method is deprecated and will be removed from pandas in a future version. Use pandas.concat instead.\n",
      "  final_df=final_df.append(df)\n",
      "  0%|▏                                                                                | 3/1433 [00:01<13:16,  1.79it/s]C:\\Users\\gaikw_000\\AppData\\Local\\Temp\\ipykernel_7332\\2861312848.py:7: FutureWarning: The frame.append method is deprecated and will be removed from pandas in a future version. Use pandas.concat instead.\n",
      "  final_df=final_df.append(df)\n",
      "  0%|▏                                                                                | 4/1433 [00:02<13:38,  1.75it/s]C:\\Users\\gaikw_000\\AppData\\Local\\Temp\\ipykernel_7332\\2861312848.py:7: FutureWarning: The frame.append method is deprecated and will be removed from pandas in a future version. Use pandas.concat instead.\n",
      "  final_df=final_df.append(df)\n",
      "  0%|▎                                                                                | 5/1433 [00:03<13:46,  1.73it/s]C:\\Users\\gaikw_000\\AppData\\Local\\Temp\\ipykernel_7332\\2861312848.py:7: FutureWarning: The frame.append method is deprecated and will be removed from pandas in a future version. Use pandas.concat instead.\n",
      "  final_df=final_df.append(df)\n",
      "  0%|▎                                                                                | 6/1433 [00:03<11:47,  2.02it/s]C:\\Users\\gaikw_000\\AppData\\Local\\Temp\\ipykernel_7332\\2861312848.py:7: FutureWarning: The frame.append method is deprecated and will be removed from pandas in a future version. Use pandas.concat instead.\n",
      "  final_df=final_df.append(df)\n",
      "  0%|▍                                                                                | 7/1433 [00:03<11:00,  2.16it/s]C:\\Users\\gaikw_000\\AppData\\Local\\Temp\\ipykernel_7332\\2861312848.py:7: FutureWarning: The frame.append method is deprecated and will be removed from pandas in a future version. Use pandas.concat instead.\n",
      "  final_df=final_df.append(df)\n",
      "  1%|▍                                                                                | 8/1433 [00:04<10:54,  2.18it/s]C:\\Users\\gaikw_000\\AppData\\Local\\Temp\\ipykernel_7332\\2861312848.py:7: FutureWarning: The frame.append method is deprecated and will be removed from pandas in a future version. Use pandas.concat instead.\n",
      "  final_df=final_df.append(df)\n",
      "  1%|▌                                                                                | 9/1433 [00:04<10:28,  2.27it/s]C:\\Users\\gaikw_000\\AppData\\Local\\Temp\\ipykernel_7332\\2861312848.py:7: FutureWarning: The frame.append method is deprecated and will be removed from pandas in a future version. Use pandas.concat instead.\n",
      "  final_df=final_df.append(df)\n",
      "  1%|▌                                                                               | 10/1433 [00:05<09:54,  2.39it/s]C:\\Users\\gaikw_000\\AppData\\Local\\Temp\\ipykernel_7332\\2861312848.py:7: FutureWarning: The frame.append method is deprecated and will be removed from pandas in a future version. Use pandas.concat instead.\n",
      "  final_df=final_df.append(df)\n",
      "  1%|▌                                                                               | 11/1433 [00:05<09:37,  2.46it/s]C:\\Users\\gaikw_000\\AppData\\Local\\Temp\\ipykernel_7332\\2861312848.py:7: FutureWarning: The frame.append method is deprecated and will be removed from pandas in a future version. Use pandas.concat instead.\n",
      "  final_df=final_df.append(df)\n",
      "  1%|▋                                                                               | 12/1433 [00:05<09:01,  2.63it/s]C:\\Users\\gaikw_000\\AppData\\Local\\Temp\\ipykernel_7332\\2861312848.py:7: FutureWarning: The frame.append method is deprecated and will be removed from pandas in a future version. Use pandas.concat instead.\n",
      "  final_df=final_df.append(df)\n",
      "  1%|▋                                                                               | 13/1433 [00:06<09:00,  2.63it/s]C:\\Users\\gaikw_000\\AppData\\Local\\Temp\\ipykernel_7332\\2861312848.py:7: FutureWarning: The frame.append method is deprecated and will be removed from pandas in a future version. Use pandas.concat instead.\n",
      "  final_df=final_df.append(df)\n",
      "  1%|▊                                                                               | 14/1433 [00:06<08:54,  2.66it/s]C:\\Users\\gaikw_000\\AppData\\Local\\Temp\\ipykernel_7332\\2861312848.py:7: FutureWarning: The frame.append method is deprecated and will be removed from pandas in a future version. Use pandas.concat instead.\n",
      "  final_df=final_df.append(df)\n",
      "  1%|▊                                                                               | 15/1433 [00:06<09:09,  2.58it/s]C:\\Users\\gaikw_000\\AppData\\Local\\Temp\\ipykernel_7332\\2861312848.py:7: FutureWarning: The frame.append method is deprecated and will be removed from pandas in a future version. Use pandas.concat instead.\n",
      "  final_df=final_df.append(df)\n",
      "  1%|▉                                                                               | 16/1433 [00:07<09:14,  2.56it/s]C:\\Users\\gaikw_000\\AppData\\Local\\Temp\\ipykernel_7332\\2861312848.py:7: FutureWarning: The frame.append method is deprecated and will be removed from pandas in a future version. Use pandas.concat instead.\n",
      "  final_df=final_df.append(df)\n",
      "  1%|▉                                                                               | 17/1433 [00:07<09:35,  2.46it/s]C:\\Users\\gaikw_000\\AppData\\Local\\Temp\\ipykernel_7332\\2861312848.py:7: FutureWarning: The frame.append method is deprecated and will be removed from pandas in a future version. Use pandas.concat instead.\n",
      "  final_df=final_df.append(df)\n",
      "  1%|█                                                                               | 18/1433 [00:08<09:35,  2.46it/s]C:\\Users\\gaikw_000\\AppData\\Local\\Temp\\ipykernel_7332\\2861312848.py:7: FutureWarning: The frame.append method is deprecated and will be removed from pandas in a future version. Use pandas.concat instead.\n",
      "  final_df=final_df.append(df)\n",
      "  1%|█                                                                               | 19/1433 [00:08<09:26,  2.50it/s]C:\\Users\\gaikw_000\\AppData\\Local\\Temp\\ipykernel_7332\\2861312848.py:7: FutureWarning: The frame.append method is deprecated and will be removed from pandas in a future version. Use pandas.concat instead.\n",
      "  final_df=final_df.append(df)\n",
      "  1%|█                                                                               | 20/1433 [00:08<08:58,  2.62it/s]C:\\Users\\gaikw_000\\AppData\\Local\\Temp\\ipykernel_7332\\2861312848.py:7: FutureWarning: The frame.append method is deprecated and will be removed from pandas in a future version. Use pandas.concat instead.\n",
      "  final_df=final_df.append(df)\n",
      "  1%|█▏                                                                              | 21/1433 [00:09<10:32,  2.23it/s]C:\\Users\\gaikw_000\\AppData\\Local\\Temp\\ipykernel_7332\\2861312848.py:7: FutureWarning: The frame.append method is deprecated and will be removed from pandas in a future version. Use pandas.concat instead.\n",
      "  final_df=final_df.append(df)\n",
      "  2%|█▏                                                                              | 22/1433 [00:09<10:25,  2.25it/s]C:\\Users\\gaikw_000\\AppData\\Local\\Temp\\ipykernel_7332\\2861312848.py:7: FutureWarning: The frame.append method is deprecated and will be removed from pandas in a future version. Use pandas.concat instead.\n",
      "  final_df=final_df.append(df)\n"
     ]
    },
    {
     "name": "stderr",
     "output_type": "stream",
     "text": [
      "  2%|█▎                                                                              | 23/1433 [00:10<10:40,  2.20it/s]C:\\Users\\gaikw_000\\AppData\\Local\\Temp\\ipykernel_7332\\2861312848.py:7: FutureWarning: The frame.append method is deprecated and will be removed from pandas in a future version. Use pandas.concat instead.\n",
      "  final_df=final_df.append(df)\n",
      "  2%|█▎                                                                              | 24/1433 [00:10<11:13,  2.09it/s]C:\\Users\\gaikw_000\\AppData\\Local\\Temp\\ipykernel_7332\\2861312848.py:7: FutureWarning: The frame.append method is deprecated and will be removed from pandas in a future version. Use pandas.concat instead.\n",
      "  final_df=final_df.append(df)\n",
      "  2%|█▍                                                                              | 25/1433 [00:11<10:58,  2.14it/s]C:\\Users\\gaikw_000\\AppData\\Local\\Temp\\ipykernel_7332\\2861312848.py:7: FutureWarning: The frame.append method is deprecated and will be removed from pandas in a future version. Use pandas.concat instead.\n",
      "  final_df=final_df.append(df)\n",
      "  2%|█▍                                                                              | 26/1433 [00:11<10:38,  2.20it/s]C:\\Users\\gaikw_000\\AppData\\Local\\Temp\\ipykernel_7332\\2861312848.py:7: FutureWarning: The frame.append method is deprecated and will be removed from pandas in a future version. Use pandas.concat instead.\n",
      "  final_df=final_df.append(df)\n",
      "  2%|█▌                                                                              | 27/1433 [00:12<09:51,  2.38it/s]C:\\Users\\gaikw_000\\AppData\\Local\\Temp\\ipykernel_7332\\2861312848.py:7: FutureWarning: The frame.append method is deprecated and will be removed from pandas in a future version. Use pandas.concat instead.\n",
      "  final_df=final_df.append(df)\n",
      "  2%|█▌                                                                              | 28/1433 [00:12<09:20,  2.51it/s]C:\\Users\\gaikw_000\\AppData\\Local\\Temp\\ipykernel_7332\\2861312848.py:7: FutureWarning: The frame.append method is deprecated and will be removed from pandas in a future version. Use pandas.concat instead.\n",
      "  final_df=final_df.append(df)\n",
      "  2%|█▌                                                                              | 29/1433 [00:12<09:37,  2.43it/s]C:\\Users\\gaikw_000\\AppData\\Local\\Temp\\ipykernel_7332\\2861312848.py:7: FutureWarning: The frame.append method is deprecated and will be removed from pandas in a future version. Use pandas.concat instead.\n",
      "  final_df=final_df.append(df)\n",
      "  2%|█▋                                                                              | 30/1433 [00:13<09:16,  2.52it/s]C:\\Users\\gaikw_000\\AppData\\Local\\Temp\\ipykernel_7332\\2861312848.py:7: FutureWarning: The frame.append method is deprecated and will be removed from pandas in a future version. Use pandas.concat instead.\n",
      "  final_df=final_df.append(df)\n",
      "  2%|█▋                                                                              | 31/1433 [00:13<09:14,  2.53it/s]C:\\Users\\gaikw_000\\AppData\\Local\\Temp\\ipykernel_7332\\2861312848.py:7: FutureWarning: The frame.append method is deprecated and will be removed from pandas in a future version. Use pandas.concat instead.\n",
      "  final_df=final_df.append(df)\n",
      "  2%|█▊                                                                              | 32/1433 [00:14<09:35,  2.43it/s]C:\\Users\\gaikw_000\\AppData\\Local\\Temp\\ipykernel_7332\\2861312848.py:7: FutureWarning: The frame.append method is deprecated and will be removed from pandas in a future version. Use pandas.concat instead.\n",
      "  final_df=final_df.append(df)\n",
      "  2%|█▊                                                                              | 33/1433 [00:14<09:27,  2.47it/s]C:\\Users\\gaikw_000\\AppData\\Local\\Temp\\ipykernel_7332\\2861312848.py:7: FutureWarning: The frame.append method is deprecated and will be removed from pandas in a future version. Use pandas.concat instead.\n",
      "  final_df=final_df.append(df)\n",
      "  2%|█▉                                                                              | 34/1433 [00:14<09:13,  2.53it/s]C:\\Users\\gaikw_000\\AppData\\Local\\Temp\\ipykernel_7332\\2861312848.py:7: FutureWarning: The frame.append method is deprecated and will be removed from pandas in a future version. Use pandas.concat instead.\n",
      "  final_df=final_df.append(df)\n",
      "  2%|█▉                                                                              | 35/1433 [00:15<09:15,  2.52it/s]C:\\Users\\gaikw_000\\AppData\\Local\\Temp\\ipykernel_7332\\2861312848.py:7: FutureWarning: The frame.append method is deprecated and will be removed from pandas in a future version. Use pandas.concat instead.\n",
      "  final_df=final_df.append(df)\n",
      "  3%|██                                                                              | 36/1433 [00:15<08:58,  2.59it/s]C:\\Users\\gaikw_000\\AppData\\Local\\Temp\\ipykernel_7332\\2861312848.py:7: FutureWarning: The frame.append method is deprecated and will be removed from pandas in a future version. Use pandas.concat instead.\n",
      "  final_df=final_df.append(df)\n",
      "  3%|██                                                                              | 37/1433 [00:16<08:39,  2.69it/s]C:\\Users\\gaikw_000\\AppData\\Local\\Temp\\ipykernel_7332\\2861312848.py:7: FutureWarning: The frame.append method is deprecated and will be removed from pandas in a future version. Use pandas.concat instead.\n",
      "  final_df=final_df.append(df)\n",
      "  3%|██                                                                              | 38/1433 [00:16<08:26,  2.75it/s]C:\\Users\\gaikw_000\\AppData\\Local\\Temp\\ipykernel_7332\\2861312848.py:7: FutureWarning: The frame.append method is deprecated and will be removed from pandas in a future version. Use pandas.concat instead.\n",
      "  final_df=final_df.append(df)\n",
      "  3%|██▏                                                                             | 39/1433 [00:16<08:54,  2.61it/s]C:\\Users\\gaikw_000\\AppData\\Local\\Temp\\ipykernel_7332\\2861312848.py:7: FutureWarning: The frame.append method is deprecated and will be removed from pandas in a future version. Use pandas.concat instead.\n",
      "  final_df=final_df.append(df)\n",
      "  3%|██▏                                                                             | 40/1433 [00:17<08:50,  2.63it/s]C:\\Users\\gaikw_000\\AppData\\Local\\Temp\\ipykernel_7332\\2861312848.py:7: FutureWarning: The frame.append method is deprecated and will be removed from pandas in a future version. Use pandas.concat instead.\n",
      "  final_df=final_df.append(df)\n",
      "  3%|██▎                                                                             | 41/1433 [00:17<08:33,  2.71it/s]C:\\Users\\gaikw_000\\AppData\\Local\\Temp\\ipykernel_7332\\2861312848.py:7: FutureWarning: The frame.append method is deprecated and will be removed from pandas in a future version. Use pandas.concat instead.\n",
      "  final_df=final_df.append(df)\n",
      "  3%|██▎                                                                             | 42/1433 [00:17<08:45,  2.65it/s]C:\\Users\\gaikw_000\\AppData\\Local\\Temp\\ipykernel_7332\\2861312848.py:7: FutureWarning: The frame.append method is deprecated and will be removed from pandas in a future version. Use pandas.concat instead.\n",
      "  final_df=final_df.append(df)\n",
      "  3%|██▍                                                                             | 43/1433 [00:18<08:42,  2.66it/s]C:\\Users\\gaikw_000\\AppData\\Local\\Temp\\ipykernel_7332\\2861312848.py:7: FutureWarning: The frame.append method is deprecated and will be removed from pandas in a future version. Use pandas.concat instead.\n",
      "  final_df=final_df.append(df)\n",
      "  3%|██▍                                                                             | 44/1433 [00:18<08:50,  2.62it/s]C:\\Users\\gaikw_000\\AppData\\Local\\Temp\\ipykernel_7332\\2861312848.py:7: FutureWarning: The frame.append method is deprecated and will be removed from pandas in a future version. Use pandas.concat instead.\n",
      "  final_df=final_df.append(df)\n",
      "  3%|██▌                                                                             | 45/1433 [00:19<08:42,  2.66it/s]C:\\Users\\gaikw_000\\AppData\\Local\\Temp\\ipykernel_7332\\2861312848.py:7: FutureWarning: The frame.append method is deprecated and will be removed from pandas in a future version. Use pandas.concat instead.\n",
      "  final_df=final_df.append(df)\n"
     ]
    },
    {
     "name": "stderr",
     "output_type": "stream",
     "text": [
      "  3%|██▌                                                                             | 46/1433 [00:19<08:19,  2.77it/s]C:\\Users\\gaikw_000\\AppData\\Local\\Temp\\ipykernel_7332\\2861312848.py:7: FutureWarning: The frame.append method is deprecated and will be removed from pandas in a future version. Use pandas.concat instead.\n",
      "  final_df=final_df.append(df)\n",
      "  3%|██▌                                                                             | 47/1433 [00:19<08:39,  2.67it/s]C:\\Users\\gaikw_000\\AppData\\Local\\Temp\\ipykernel_7332\\2861312848.py:7: FutureWarning: The frame.append method is deprecated and will be removed from pandas in a future version. Use pandas.concat instead.\n",
      "  final_df=final_df.append(df)\n",
      "  3%|██▋                                                                             | 48/1433 [00:20<08:34,  2.69it/s]C:\\Users\\gaikw_000\\AppData\\Local\\Temp\\ipykernel_7332\\2861312848.py:7: FutureWarning: The frame.append method is deprecated and will be removed from pandas in a future version. Use pandas.concat instead.\n",
      "  final_df=final_df.append(df)\n",
      "  3%|██▋                                                                             | 49/1433 [00:20<09:07,  2.53it/s]C:\\Users\\gaikw_000\\AppData\\Local\\Temp\\ipykernel_7332\\2861312848.py:7: FutureWarning: The frame.append method is deprecated and will be removed from pandas in a future version. Use pandas.concat instead.\n",
      "  final_df=final_df.append(df)\n",
      "  3%|██▊                                                                             | 50/1433 [00:20<08:40,  2.66it/s]C:\\Users\\gaikw_000\\AppData\\Local\\Temp\\ipykernel_7332\\2861312848.py:7: FutureWarning: The frame.append method is deprecated and will be removed from pandas in a future version. Use pandas.concat instead.\n",
      "  final_df=final_df.append(df)\n",
      "  4%|██▊                                                                             | 51/1433 [00:21<08:40,  2.66it/s]C:\\Users\\gaikw_000\\AppData\\Local\\Temp\\ipykernel_7332\\2861312848.py:7: FutureWarning: The frame.append method is deprecated and will be removed from pandas in a future version. Use pandas.concat instead.\n",
      "  final_df=final_df.append(df)\n",
      "  4%|██▉                                                                             | 52/1433 [00:21<08:38,  2.66it/s]C:\\Users\\gaikw_000\\AppData\\Local\\Temp\\ipykernel_7332\\2861312848.py:7: FutureWarning: The frame.append method is deprecated and will be removed from pandas in a future version. Use pandas.concat instead.\n",
      "  final_df=final_df.append(df)\n",
      "  4%|██▉                                                                             | 53/1433 [00:22<09:11,  2.50it/s]C:\\Users\\gaikw_000\\AppData\\Local\\Temp\\ipykernel_7332\\2861312848.py:7: FutureWarning: The frame.append method is deprecated and will be removed from pandas in a future version. Use pandas.concat instead.\n",
      "  final_df=final_df.append(df)\n",
      "  4%|███                                                                             | 54/1433 [00:22<08:04,  2.85it/s]C:\\Users\\gaikw_000\\AppData\\Local\\Temp\\ipykernel_7332\\2861312848.py:7: FutureWarning: The frame.append method is deprecated and will be removed from pandas in a future version. Use pandas.concat instead.\n",
      "  final_df=final_df.append(df)\n",
      "  4%|███                                                                             | 55/1433 [00:22<08:14,  2.78it/s]C:\\Users\\gaikw_000\\AppData\\Local\\Temp\\ipykernel_7332\\2861312848.py:7: FutureWarning: The frame.append method is deprecated and will be removed from pandas in a future version. Use pandas.concat instead.\n",
      "  final_df=final_df.append(df)\n",
      "  4%|███▏                                                                            | 56/1433 [00:23<08:38,  2.65it/s]C:\\Users\\gaikw_000\\AppData\\Local\\Temp\\ipykernel_7332\\2861312848.py:7: FutureWarning: The frame.append method is deprecated and will be removed from pandas in a future version. Use pandas.concat instead.\n",
      "  final_df=final_df.append(df)\n",
      "  4%|███▏                                                                            | 57/1433 [00:23<08:27,  2.71it/s]C:\\Users\\gaikw_000\\AppData\\Local\\Temp\\ipykernel_7332\\2861312848.py:7: FutureWarning: The frame.append method is deprecated and will be removed from pandas in a future version. Use pandas.concat instead.\n",
      "  final_df=final_df.append(df)\n",
      "  4%|███▏                                                                            | 58/1433 [00:23<08:34,  2.67it/s]C:\\Users\\gaikw_000\\AppData\\Local\\Temp\\ipykernel_7332\\2861312848.py:7: FutureWarning: The frame.append method is deprecated and will be removed from pandas in a future version. Use pandas.concat instead.\n",
      "  final_df=final_df.append(df)\n",
      "  4%|███▎                                                                            | 59/1433 [00:24<08:27,  2.71it/s]C:\\Users\\gaikw_000\\AppData\\Local\\Temp\\ipykernel_7332\\2861312848.py:7: FutureWarning: The frame.append method is deprecated and will be removed from pandas in a future version. Use pandas.concat instead.\n",
      "  final_df=final_df.append(df)\n",
      "  4%|███▎                                                                            | 60/1433 [00:24<08:42,  2.63it/s]C:\\Users\\gaikw_000\\AppData\\Local\\Temp\\ipykernel_7332\\2861312848.py:7: FutureWarning: The frame.append method is deprecated and will be removed from pandas in a future version. Use pandas.concat instead.\n",
      "  final_df=final_df.append(df)\n",
      "  4%|███▍                                                                            | 61/1433 [00:25<08:19,  2.75it/s]C:\\Users\\gaikw_000\\AppData\\Local\\Temp\\ipykernel_7332\\2861312848.py:7: FutureWarning: The frame.append method is deprecated and will be removed from pandas in a future version. Use pandas.concat instead.\n",
      "  final_df=final_df.append(df)\n",
      "  4%|███▍                                                                            | 62/1433 [00:25<08:09,  2.80it/s]C:\\Users\\gaikw_000\\AppData\\Local\\Temp\\ipykernel_7332\\2861312848.py:7: FutureWarning: The frame.append method is deprecated and will be removed from pandas in a future version. Use pandas.concat instead.\n",
      "  final_df=final_df.append(df)\n",
      "  4%|███▌                                                                            | 63/1433 [00:25<08:27,  2.70it/s]C:\\Users\\gaikw_000\\AppData\\Local\\Temp\\ipykernel_7332\\2861312848.py:7: FutureWarning: The frame.append method is deprecated and will be removed from pandas in a future version. Use pandas.concat instead.\n",
      "  final_df=final_df.append(df)\n",
      "  4%|███▌                                                                            | 64/1433 [00:26<08:43,  2.61it/s]C:\\Users\\gaikw_000\\AppData\\Local\\Temp\\ipykernel_7332\\2861312848.py:7: FutureWarning: The frame.append method is deprecated and will be removed from pandas in a future version. Use pandas.concat instead.\n",
      "  final_df=final_df.append(df)\n",
      "  5%|███▋                                                                            | 65/1433 [00:26<08:30,  2.68it/s]C:\\Users\\gaikw_000\\AppData\\Local\\Temp\\ipykernel_7332\\2861312848.py:7: FutureWarning: The frame.append method is deprecated and will be removed from pandas in a future version. Use pandas.concat instead.\n",
      "  final_df=final_df.append(df)\n",
      "  5%|███▋                                                                            | 66/1433 [00:26<08:09,  2.79it/s]C:\\Users\\gaikw_000\\AppData\\Local\\Temp\\ipykernel_7332\\2861312848.py:7: FutureWarning: The frame.append method is deprecated and will be removed from pandas in a future version. Use pandas.concat instead.\n",
      "  final_df=final_df.append(df)\n",
      "  5%|███▋                                                                            | 67/1433 [00:27<08:35,  2.65it/s]C:\\Users\\gaikw_000\\AppData\\Local\\Temp\\ipykernel_7332\\2861312848.py:7: FutureWarning: The frame.append method is deprecated and will be removed from pandas in a future version. Use pandas.concat instead.\n",
      "  final_df=final_df.append(df)\n",
      "  5%|███▊                                                                            | 68/1433 [00:27<08:42,  2.61it/s]C:\\Users\\gaikw_000\\AppData\\Local\\Temp\\ipykernel_7332\\2861312848.py:7: FutureWarning: The frame.append method is deprecated and will be removed from pandas in a future version. Use pandas.concat instead.\n",
      "  final_df=final_df.append(df)\n"
     ]
    },
    {
     "name": "stderr",
     "output_type": "stream",
     "text": [
      "  5%|███▊                                                                            | 69/1433 [00:28<08:26,  2.69it/s]C:\\Users\\gaikw_000\\AppData\\Local\\Temp\\ipykernel_7332\\2861312848.py:7: FutureWarning: The frame.append method is deprecated and will be removed from pandas in a future version. Use pandas.concat instead.\n",
      "  final_df=final_df.append(df)\n",
      "  5%|███▉                                                                            | 70/1433 [00:28<08:06,  2.80it/s]C:\\Users\\gaikw_000\\AppData\\Local\\Temp\\ipykernel_7332\\2861312848.py:7: FutureWarning: The frame.append method is deprecated and will be removed from pandas in a future version. Use pandas.concat instead.\n",
      "  final_df=final_df.append(df)\n",
      "  5%|███▉                                                                            | 71/1433 [00:28<08:16,  2.75it/s]C:\\Users\\gaikw_000\\AppData\\Local\\Temp\\ipykernel_7332\\2861312848.py:7: FutureWarning: The frame.append method is deprecated and will be removed from pandas in a future version. Use pandas.concat instead.\n",
      "  final_df=final_df.append(df)\n",
      "  5%|████                                                                            | 72/1433 [00:29<08:09,  2.78it/s]C:\\Users\\gaikw_000\\AppData\\Local\\Temp\\ipykernel_7332\\2861312848.py:7: FutureWarning: The frame.append method is deprecated and will be removed from pandas in a future version. Use pandas.concat instead.\n",
      "  final_df=final_df.append(df)\n",
      "  5%|████                                                                            | 73/1433 [00:29<08:06,  2.80it/s]C:\\Users\\gaikw_000\\AppData\\Local\\Temp\\ipykernel_7332\\2861312848.py:7: FutureWarning: The frame.append method is deprecated and will be removed from pandas in a future version. Use pandas.concat instead.\n",
      "  final_df=final_df.append(df)\n",
      "  5%|████▏                                                                           | 74/1433 [00:29<08:20,  2.72it/s]C:\\Users\\gaikw_000\\AppData\\Local\\Temp\\ipykernel_7332\\2861312848.py:7: FutureWarning: The frame.append method is deprecated and will be removed from pandas in a future version. Use pandas.concat instead.\n",
      "  final_df=final_df.append(df)\n",
      "  5%|████▏                                                                           | 75/1433 [00:29<06:49,  3.32it/s]C:\\Users\\gaikw_000\\AppData\\Local\\Temp\\ipykernel_7332\\2861312848.py:7: FutureWarning: The frame.append method is deprecated and will be removed from pandas in a future version. Use pandas.concat instead.\n",
      "  final_df=final_df.append(df)\n",
      "  5%|████▏                                                                           | 76/1433 [00:30<07:09,  3.16it/s]C:\\Users\\gaikw_000\\AppData\\Local\\Temp\\ipykernel_7332\\2861312848.py:7: FutureWarning: The frame.append method is deprecated and will be removed from pandas in a future version. Use pandas.concat instead.\n",
      "  final_df=final_df.append(df)\n",
      "  5%|████▎                                                                           | 77/1433 [00:30<07:06,  3.18it/s]C:\\Users\\gaikw_000\\AppData\\Local\\Temp\\ipykernel_7332\\2861312848.py:7: FutureWarning: The frame.append method is deprecated and will be removed from pandas in a future version. Use pandas.concat instead.\n",
      "  final_df=final_df.append(df)\n",
      "  5%|████▎                                                                           | 78/1433 [00:31<07:52,  2.87it/s]C:\\Users\\gaikw_000\\AppData\\Local\\Temp\\ipykernel_7332\\2861312848.py:7: FutureWarning: The frame.append method is deprecated and will be removed from pandas in a future version. Use pandas.concat instead.\n",
      "  final_df=final_df.append(df)\n",
      "  6%|████▍                                                                           | 79/1433 [00:31<08:00,  2.82it/s]C:\\Users\\gaikw_000\\AppData\\Local\\Temp\\ipykernel_7332\\2861312848.py:7: FutureWarning: The frame.append method is deprecated and will be removed from pandas in a future version. Use pandas.concat instead.\n",
      "  final_df=final_df.append(df)\n",
      "  6%|████▍                                                                           | 80/1433 [00:31<08:27,  2.67it/s]C:\\Users\\gaikw_000\\AppData\\Local\\Temp\\ipykernel_7332\\2861312848.py:7: FutureWarning: The frame.append method is deprecated and will be removed from pandas in a future version. Use pandas.concat instead.\n",
      "  final_df=final_df.append(df)\n",
      "  6%|████▌                                                                           | 81/1433 [00:32<08:50,  2.55it/s]C:\\Users\\gaikw_000\\AppData\\Local\\Temp\\ipykernel_7332\\2861312848.py:7: FutureWarning: The frame.append method is deprecated and will be removed from pandas in a future version. Use pandas.concat instead.\n",
      "  final_df=final_df.append(df)\n",
      "  6%|████▌                                                                           | 82/1433 [00:32<08:31,  2.64it/s]C:\\Users\\gaikw_000\\AppData\\Local\\Temp\\ipykernel_7332\\2861312848.py:7: FutureWarning: The frame.append method is deprecated and will be removed from pandas in a future version. Use pandas.concat instead.\n",
      "  final_df=final_df.append(df)\n",
      "  6%|████▋                                                                           | 83/1433 [00:32<07:57,  2.83it/s]C:\\Users\\gaikw_000\\AppData\\Local\\Temp\\ipykernel_7332\\2861312848.py:7: FutureWarning: The frame.append method is deprecated and will be removed from pandas in a future version. Use pandas.concat instead.\n",
      "  final_df=final_df.append(df)\n",
      "  6%|████▋                                                                           | 84/1433 [00:33<07:37,  2.95it/s]C:\\Users\\gaikw_000\\AppData\\Local\\Temp\\ipykernel_7332\\2861312848.py:7: FutureWarning: The frame.append method is deprecated and will be removed from pandas in a future version. Use pandas.concat instead.\n",
      "  final_df=final_df.append(df)\n",
      "  6%|████▋                                                                           | 85/1433 [00:33<08:09,  2.75it/s]C:\\Users\\gaikw_000\\AppData\\Local\\Temp\\ipykernel_7332\\2861312848.py:7: FutureWarning: The frame.append method is deprecated and will be removed from pandas in a future version. Use pandas.concat instead.\n",
      "  final_df=final_df.append(df)\n",
      "  6%|████▊                                                                           | 86/1433 [00:33<08:06,  2.77it/s]C:\\Users\\gaikw_000\\AppData\\Local\\Temp\\ipykernel_7332\\2861312848.py:7: FutureWarning: The frame.append method is deprecated and will be removed from pandas in a future version. Use pandas.concat instead.\n",
      "  final_df=final_df.append(df)\n",
      "  6%|████▊                                                                           | 87/1433 [00:34<08:01,  2.80it/s]C:\\Users\\gaikw_000\\AppData\\Local\\Temp\\ipykernel_7332\\2861312848.py:7: FutureWarning: The frame.append method is deprecated and will be removed from pandas in a future version. Use pandas.concat instead.\n",
      "  final_df=final_df.append(df)\n",
      "  6%|████▉                                                                           | 88/1433 [00:34<08:29,  2.64it/s]C:\\Users\\gaikw_000\\AppData\\Local\\Temp\\ipykernel_7332\\2861312848.py:7: FutureWarning: The frame.append method is deprecated and will be removed from pandas in a future version. Use pandas.concat instead.\n",
      "  final_df=final_df.append(df)\n",
      "  6%|████▉                                                                           | 89/1433 [00:35<08:45,  2.56it/s]C:\\Users\\gaikw_000\\AppData\\Local\\Temp\\ipykernel_7332\\2861312848.py:7: FutureWarning: The frame.append method is deprecated and will be removed from pandas in a future version. Use pandas.concat instead.\n",
      "  final_df=final_df.append(df)\n",
      "  6%|█████                                                                           | 90/1433 [00:35<08:28,  2.64it/s]C:\\Users\\gaikw_000\\AppData\\Local\\Temp\\ipykernel_7332\\2861312848.py:7: FutureWarning: The frame.append method is deprecated and will be removed from pandas in a future version. Use pandas.concat instead.\n",
      "  final_df=final_df.append(df)\n",
      "  6%|█████                                                                           | 91/1433 [00:35<07:02,  3.17it/s]C:\\Users\\gaikw_000\\AppData\\Local\\Temp\\ipykernel_7332\\2861312848.py:7: FutureWarning: The frame.append method is deprecated and will be removed from pandas in a future version. Use pandas.concat instead.\n",
      "  final_df=final_df.append(df)\n"
     ]
    },
    {
     "name": "stderr",
     "output_type": "stream",
     "text": [
      "  6%|█████▏                                                                          | 92/1433 [00:36<07:31,  2.97it/s]C:\\Users\\gaikw_000\\AppData\\Local\\Temp\\ipykernel_7332\\2861312848.py:7: FutureWarning: The frame.append method is deprecated and will be removed from pandas in a future version. Use pandas.concat instead.\n",
      "  final_df=final_df.append(df)\n",
      "  6%|█████▏                                                                          | 93/1433 [00:36<07:39,  2.92it/s]C:\\Users\\gaikw_000\\AppData\\Local\\Temp\\ipykernel_7332\\2861312848.py:7: FutureWarning: The frame.append method is deprecated and will be removed from pandas in a future version. Use pandas.concat instead.\n",
      "  final_df=final_df.append(df)\n",
      "  7%|█████▏                                                                          | 94/1433 [00:36<07:42,  2.90it/s]C:\\Users\\gaikw_000\\AppData\\Local\\Temp\\ipykernel_7332\\2861312848.py:7: FutureWarning: The frame.append method is deprecated and will be removed from pandas in a future version. Use pandas.concat instead.\n",
      "  final_df=final_df.append(df)\n",
      "  7%|█████▎                                                                          | 95/1433 [00:37<08:46,  2.54it/s]C:\\Users\\gaikw_000\\AppData\\Local\\Temp\\ipykernel_7332\\2861312848.py:7: FutureWarning: The frame.append method is deprecated and will be removed from pandas in a future version. Use pandas.concat instead.\n",
      "  final_df=final_df.append(df)\n",
      "  7%|█████▎                                                                          | 96/1433 [00:37<08:50,  2.52it/s]C:\\Users\\gaikw_000\\AppData\\Local\\Temp\\ipykernel_7332\\2861312848.py:7: FutureWarning: The frame.append method is deprecated and will be removed from pandas in a future version. Use pandas.concat instead.\n",
      "  final_df=final_df.append(df)\n",
      "  7%|█████▍                                                                          | 97/1433 [00:38<08:50,  2.52it/s]C:\\Users\\gaikw_000\\AppData\\Local\\Temp\\ipykernel_7332\\2861312848.py:7: FutureWarning: The frame.append method is deprecated and will be removed from pandas in a future version. Use pandas.concat instead.\n",
      "  final_df=final_df.append(df)\n",
      "  7%|█████▍                                                                          | 98/1433 [00:38<09:06,  2.44it/s]C:\\Users\\gaikw_000\\AppData\\Local\\Temp\\ipykernel_7332\\2861312848.py:7: FutureWarning: The frame.append method is deprecated and will be removed from pandas in a future version. Use pandas.concat instead.\n",
      "  final_df=final_df.append(df)\n",
      "  7%|█████▌                                                                          | 99/1433 [00:39<09:58,  2.23it/s]C:\\Users\\gaikw_000\\AppData\\Local\\Temp\\ipykernel_7332\\2861312848.py:7: FutureWarning: The frame.append method is deprecated and will be removed from pandas in a future version. Use pandas.concat instead.\n",
      "  final_df=final_df.append(df)\n",
      "  7%|█████▌                                                                         | 100/1433 [00:39<10:18,  2.16it/s]C:\\Users\\gaikw_000\\AppData\\Local\\Temp\\ipykernel_7332\\2861312848.py:7: FutureWarning: The frame.append method is deprecated and will be removed from pandas in a future version. Use pandas.concat instead.\n",
      "  final_df=final_df.append(df)\n",
      "  7%|█████▌                                                                         | 101/1433 [00:39<09:31,  2.33it/s]C:\\Users\\gaikw_000\\AppData\\Local\\Temp\\ipykernel_7332\\2861312848.py:7: FutureWarning: The frame.append method is deprecated and will be removed from pandas in a future version. Use pandas.concat instead.\n",
      "  final_df=final_df.append(df)\n",
      "  7%|█████▌                                                                         | 102/1433 [00:40<10:36,  2.09it/s]C:\\Users\\gaikw_000\\AppData\\Local\\Temp\\ipykernel_7332\\2861312848.py:7: FutureWarning: The frame.append method is deprecated and will be removed from pandas in a future version. Use pandas.concat instead.\n",
      "  final_df=final_df.append(df)\n",
      "  7%|█████▋                                                                         | 103/1433 [00:40<09:57,  2.23it/s]C:\\Users\\gaikw_000\\AppData\\Local\\Temp\\ipykernel_7332\\2861312848.py:7: FutureWarning: The frame.append method is deprecated and will be removed from pandas in a future version. Use pandas.concat instead.\n",
      "  final_df=final_df.append(df)\n",
      "  7%|█████▋                                                                         | 104/1433 [00:41<08:53,  2.49it/s]C:\\Users\\gaikw_000\\AppData\\Local\\Temp\\ipykernel_7332\\2861312848.py:7: FutureWarning: The frame.append method is deprecated and will be removed from pandas in a future version. Use pandas.concat instead.\n",
      "  final_df=final_df.append(df)\n",
      "  7%|█████▊                                                                         | 105/1433 [00:41<09:58,  2.22it/s]C:\\Users\\gaikw_000\\AppData\\Local\\Temp\\ipykernel_7332\\2861312848.py:7: FutureWarning: The frame.append method is deprecated and will be removed from pandas in a future version. Use pandas.concat instead.\n",
      "  final_df=final_df.append(df)\n",
      "  7%|█████▊                                                                         | 106/1433 [00:42<10:01,  2.21it/s]C:\\Users\\gaikw_000\\AppData\\Local\\Temp\\ipykernel_7332\\2861312848.py:7: FutureWarning: The frame.append method is deprecated and will be removed from pandas in a future version. Use pandas.concat instead.\n",
      "  final_df=final_df.append(df)\n",
      "  7%|█████▉                                                                         | 107/1433 [00:42<10:17,  2.15it/s]C:\\Users\\gaikw_000\\AppData\\Local\\Temp\\ipykernel_7332\\2861312848.py:7: FutureWarning: The frame.append method is deprecated and will be removed from pandas in a future version. Use pandas.concat instead.\n",
      "  final_df=final_df.append(df)\n",
      "  8%|█████▉                                                                         | 108/1433 [00:42<08:43,  2.53it/s]C:\\Users\\gaikw_000\\AppData\\Local\\Temp\\ipykernel_7332\\2861312848.py:7: FutureWarning: The frame.append method is deprecated and will be removed from pandas in a future version. Use pandas.concat instead.\n",
      "  final_df=final_df.append(df)\n",
      "  8%|██████                                                                         | 109/1433 [00:43<10:05,  2.19it/s]C:\\Users\\gaikw_000\\AppData\\Local\\Temp\\ipykernel_7332\\2861312848.py:7: FutureWarning: The frame.append method is deprecated and will be removed from pandas in a future version. Use pandas.concat instead.\n",
      "  final_df=final_df.append(df)\n",
      "  8%|██████                                                                         | 110/1433 [00:43<09:40,  2.28it/s]C:\\Users\\gaikw_000\\AppData\\Local\\Temp\\ipykernel_7332\\2861312848.py:7: FutureWarning: The frame.append method is deprecated and will be removed from pandas in a future version. Use pandas.concat instead.\n",
      "  final_df=final_df.append(df)\n",
      "  8%|██████                                                                         | 111/1433 [00:44<10:32,  2.09it/s]C:\\Users\\gaikw_000\\AppData\\Local\\Temp\\ipykernel_7332\\2861312848.py:7: FutureWarning: The frame.append method is deprecated and will be removed from pandas in a future version. Use pandas.concat instead.\n",
      "  final_df=final_df.append(df)\n",
      "  8%|██████▏                                                                        | 112/1433 [00:44<10:03,  2.19it/s]C:\\Users\\gaikw_000\\AppData\\Local\\Temp\\ipykernel_7332\\2861312848.py:7: FutureWarning: The frame.append method is deprecated and will be removed from pandas in a future version. Use pandas.concat instead.\n",
      "  final_df=final_df.append(df)\n",
      "  8%|██████▏                                                                        | 113/1433 [00:45<10:12,  2.16it/s]C:\\Users\\gaikw_000\\AppData\\Local\\Temp\\ipykernel_7332\\2861312848.py:7: FutureWarning: The frame.append method is deprecated and will be removed from pandas in a future version. Use pandas.concat instead.\n",
      "  final_df=final_df.append(df)\n",
      "  8%|██████▎                                                                        | 114/1433 [00:45<09:51,  2.23it/s]C:\\Users\\gaikw_000\\AppData\\Local\\Temp\\ipykernel_7332\\2861312848.py:7: FutureWarning: The frame.append method is deprecated and will be removed from pandas in a future version. Use pandas.concat instead.\n",
      "  final_df=final_df.append(df)\n"
     ]
    },
    {
     "name": "stderr",
     "output_type": "stream",
     "text": [
      "  8%|██████▎                                                                        | 115/1433 [00:46<11:35,  1.89it/s]C:\\Users\\gaikw_000\\AppData\\Local\\Temp\\ipykernel_7332\\2861312848.py:7: FutureWarning: The frame.append method is deprecated and will be removed from pandas in a future version. Use pandas.concat instead.\n",
      "  final_df=final_df.append(df)\n",
      "  8%|██████▍                                                                        | 116/1433 [00:47<12:14,  1.79it/s]C:\\Users\\gaikw_000\\AppData\\Local\\Temp\\ipykernel_7332\\2861312848.py:7: FutureWarning: The frame.append method is deprecated and will be removed from pandas in a future version. Use pandas.concat instead.\n",
      "  final_df=final_df.append(df)\n",
      "  8%|██████▍                                                                        | 117/1433 [00:47<12:30,  1.75it/s]C:\\Users\\gaikw_000\\AppData\\Local\\Temp\\ipykernel_7332\\2861312848.py:7: FutureWarning: The frame.append method is deprecated and will be removed from pandas in a future version. Use pandas.concat instead.\n",
      "  final_df=final_df.append(df)\n",
      "  8%|██████▌                                                                        | 118/1433 [00:48<12:14,  1.79it/s]C:\\Users\\gaikw_000\\AppData\\Local\\Temp\\ipykernel_7332\\2861312848.py:7: FutureWarning: The frame.append method is deprecated and will be removed from pandas in a future version. Use pandas.concat instead.\n",
      "  final_df=final_df.append(df)\n",
      "  8%|██████▌                                                                        | 119/1433 [00:48<12:15,  1.79it/s]C:\\Users\\gaikw_000\\AppData\\Local\\Temp\\ipykernel_7332\\2861312848.py:7: FutureWarning: The frame.append method is deprecated and will be removed from pandas in a future version. Use pandas.concat instead.\n",
      "  final_df=final_df.append(df)\n",
      "  8%|██████▌                                                                        | 120/1433 [00:49<12:45,  1.72it/s]C:\\Users\\gaikw_000\\AppData\\Local\\Temp\\ipykernel_7332\\2861312848.py:7: FutureWarning: The frame.append method is deprecated and will be removed from pandas in a future version. Use pandas.concat instead.\n",
      "  final_df=final_df.append(df)\n",
      "  8%|██████▋                                                                        | 121/1433 [00:50<12:36,  1.73it/s]C:\\Users\\gaikw_000\\AppData\\Local\\Temp\\ipykernel_7332\\2861312848.py:7: FutureWarning: The frame.append method is deprecated and will be removed from pandas in a future version. Use pandas.concat instead.\n",
      "  final_df=final_df.append(df)\n",
      "  9%|██████▋                                                                        | 122/1433 [00:50<11:54,  1.83it/s]C:\\Users\\gaikw_000\\AppData\\Local\\Temp\\ipykernel_7332\\2861312848.py:7: FutureWarning: The frame.append method is deprecated and will be removed from pandas in a future version. Use pandas.concat instead.\n",
      "  final_df=final_df.append(df)\n",
      "  9%|██████▊                                                                        | 123/1433 [00:51<11:45,  1.86it/s]C:\\Users\\gaikw_000\\AppData\\Local\\Temp\\ipykernel_7332\\2861312848.py:7: FutureWarning: The frame.append method is deprecated and will be removed from pandas in a future version. Use pandas.concat instead.\n",
      "  final_df=final_df.append(df)\n",
      "  9%|██████▊                                                                        | 124/1433 [00:51<10:50,  2.01it/s]C:\\Users\\gaikw_000\\AppData\\Local\\Temp\\ipykernel_7332\\2861312848.py:7: FutureWarning: The frame.append method is deprecated and will be removed from pandas in a future version. Use pandas.concat instead.\n",
      "  final_df=final_df.append(df)\n",
      "  9%|██████▉                                                                        | 125/1433 [00:51<10:22,  2.10it/s]C:\\Users\\gaikw_000\\AppData\\Local\\Temp\\ipykernel_7332\\2861312848.py:7: FutureWarning: The frame.append method is deprecated and will be removed from pandas in a future version. Use pandas.concat instead.\n",
      "  final_df=final_df.append(df)\n",
      "  9%|██████▉                                                                        | 126/1433 [00:52<09:17,  2.35it/s]C:\\Users\\gaikw_000\\AppData\\Local\\Temp\\ipykernel_7332\\2861312848.py:7: FutureWarning: The frame.append method is deprecated and will be removed from pandas in a future version. Use pandas.concat instead.\n",
      "  final_df=final_df.append(df)\n",
      "  9%|███████                                                                        | 127/1433 [00:52<09:15,  2.35it/s]C:\\Users\\gaikw_000\\AppData\\Local\\Temp\\ipykernel_7332\\2861312848.py:7: FutureWarning: The frame.append method is deprecated and will be removed from pandas in a future version. Use pandas.concat instead.\n",
      "  final_df=final_df.append(df)\n",
      "  9%|███████                                                                        | 128/1433 [00:52<08:53,  2.44it/s]C:\\Users\\gaikw_000\\AppData\\Local\\Temp\\ipykernel_7332\\2861312848.py:7: FutureWarning: The frame.append method is deprecated and will be removed from pandas in a future version. Use pandas.concat instead.\n",
      "  final_df=final_df.append(df)\n",
      "  9%|███████                                                                        | 129/1433 [00:53<08:58,  2.42it/s]C:\\Users\\gaikw_000\\AppData\\Local\\Temp\\ipykernel_7332\\2861312848.py:7: FutureWarning: The frame.append method is deprecated and will be removed from pandas in a future version. Use pandas.concat instead.\n",
      "  final_df=final_df.append(df)\n",
      "  9%|███████▏                                                                       | 130/1433 [00:54<10:44,  2.02it/s]C:\\Users\\gaikw_000\\AppData\\Local\\Temp\\ipykernel_7332\\2861312848.py:7: FutureWarning: The frame.append method is deprecated and will be removed from pandas in a future version. Use pandas.concat instead.\n",
      "  final_df=final_df.append(df)\n",
      "  9%|███████▏                                                                       | 131/1433 [00:54<10:36,  2.05it/s]C:\\Users\\gaikw_000\\AppData\\Local\\Temp\\ipykernel_7332\\2861312848.py:7: FutureWarning: The frame.append method is deprecated and will be removed from pandas in a future version. Use pandas.concat instead.\n",
      "  final_df=final_df.append(df)\n",
      "  9%|███████▎                                                                       | 132/1433 [00:55<10:36,  2.04it/s]C:\\Users\\gaikw_000\\AppData\\Local\\Temp\\ipykernel_7332\\2861312848.py:7: FutureWarning: The frame.append method is deprecated and will be removed from pandas in a future version. Use pandas.concat instead.\n",
      "  final_df=final_df.append(df)\n",
      "  9%|███████▎                                                                       | 133/1433 [00:55<11:07,  1.95it/s]C:\\Users\\gaikw_000\\AppData\\Local\\Temp\\ipykernel_7332\\2861312848.py:7: FutureWarning: The frame.append method is deprecated and will be removed from pandas in a future version. Use pandas.concat instead.\n",
      "  final_df=final_df.append(df)\n",
      "  9%|███████▍                                                                       | 134/1433 [00:55<10:12,  2.12it/s]C:\\Users\\gaikw_000\\AppData\\Local\\Temp\\ipykernel_7332\\2861312848.py:7: FutureWarning: The frame.append method is deprecated and will be removed from pandas in a future version. Use pandas.concat instead.\n",
      "  final_df=final_df.append(df)\n",
      "  9%|███████▍                                                                       | 135/1433 [00:56<09:04,  2.38it/s]C:\\Users\\gaikw_000\\AppData\\Local\\Temp\\ipykernel_7332\\2861312848.py:7: FutureWarning: The frame.append method is deprecated and will be removed from pandas in a future version. Use pandas.concat instead.\n",
      "  final_df=final_df.append(df)\n",
      "  9%|███████▍                                                                       | 136/1433 [00:56<09:09,  2.36it/s]C:\\Users\\gaikw_000\\AppData\\Local\\Temp\\ipykernel_7332\\2861312848.py:7: FutureWarning: The frame.append method is deprecated and will be removed from pandas in a future version. Use pandas.concat instead.\n",
      "  final_df=final_df.append(df)\n",
      " 10%|███████▌                                                                       | 137/1433 [00:57<08:40,  2.49it/s]C:\\Users\\gaikw_000\\AppData\\Local\\Temp\\ipykernel_7332\\2861312848.py:7: FutureWarning: The frame.append method is deprecated and will be removed from pandas in a future version. Use pandas.concat instead.\n",
      "  final_df=final_df.append(df)\n"
     ]
    },
    {
     "name": "stderr",
     "output_type": "stream",
     "text": [
      " 10%|███████▌                                                                       | 138/1433 [00:57<08:40,  2.49it/s]C:\\Users\\gaikw_000\\AppData\\Local\\Temp\\ipykernel_7332\\2861312848.py:7: FutureWarning: The frame.append method is deprecated and will be removed from pandas in a future version. Use pandas.concat instead.\n",
      "  final_df=final_df.append(df)\n",
      " 10%|███████▋                                                                       | 139/1433 [00:57<08:32,  2.52it/s]C:\\Users\\gaikw_000\\AppData\\Local\\Temp\\ipykernel_7332\\2861312848.py:7: FutureWarning: The frame.append method is deprecated and will be removed from pandas in a future version. Use pandas.concat instead.\n",
      "  final_df=final_df.append(df)\n",
      " 10%|███████▋                                                                       | 140/1433 [00:58<08:52,  2.43it/s]C:\\Users\\gaikw_000\\AppData\\Local\\Temp\\ipykernel_7332\\2861312848.py:7: FutureWarning: The frame.append method is deprecated and will be removed from pandas in a future version. Use pandas.concat instead.\n",
      "  final_df=final_df.append(df)\n",
      " 10%|███████▊                                                                       | 141/1433 [00:58<09:15,  2.33it/s]C:\\Users\\gaikw_000\\AppData\\Local\\Temp\\ipykernel_7332\\2861312848.py:7: FutureWarning: The frame.append method is deprecated and will be removed from pandas in a future version. Use pandas.concat instead.\n",
      "  final_df=final_df.append(df)\n",
      " 10%|███████▊                                                                       | 142/1433 [00:59<08:56,  2.41it/s]C:\\Users\\gaikw_000\\AppData\\Local\\Temp\\ipykernel_7332\\2861312848.py:7: FutureWarning: The frame.append method is deprecated and will be removed from pandas in a future version. Use pandas.concat instead.\n",
      "  final_df=final_df.append(df)\n",
      " 10%|███████▉                                                                       | 143/1433 [00:59<09:02,  2.38it/s]C:\\Users\\gaikw_000\\AppData\\Local\\Temp\\ipykernel_7332\\2861312848.py:7: FutureWarning: The frame.append method is deprecated and will be removed from pandas in a future version. Use pandas.concat instead.\n",
      "  final_df=final_df.append(df)\n",
      " 10%|███████▉                                                                       | 144/1433 [00:59<08:47,  2.45it/s]C:\\Users\\gaikw_000\\AppData\\Local\\Temp\\ipykernel_7332\\2861312848.py:7: FutureWarning: The frame.append method is deprecated and will be removed from pandas in a future version. Use pandas.concat instead.\n",
      "  final_df=final_df.append(df)\n",
      " 10%|███████▉                                                                       | 145/1433 [01:00<08:32,  2.51it/s]C:\\Users\\gaikw_000\\AppData\\Local\\Temp\\ipykernel_7332\\2861312848.py:7: FutureWarning: The frame.append method is deprecated and will be removed from pandas in a future version. Use pandas.concat instead.\n",
      "  final_df=final_df.append(df)\n",
      " 10%|████████                                                                       | 146/1433 [01:00<08:38,  2.48it/s]C:\\Users\\gaikw_000\\AppData\\Local\\Temp\\ipykernel_7332\\2861312848.py:7: FutureWarning: The frame.append method is deprecated and will be removed from pandas in a future version. Use pandas.concat instead.\n",
      "  final_df=final_df.append(df)\n",
      " 10%|████████                                                                       | 147/1433 [01:01<09:53,  2.17it/s]C:\\Users\\gaikw_000\\AppData\\Local\\Temp\\ipykernel_7332\\2861312848.py:7: FutureWarning: The frame.append method is deprecated and will be removed from pandas in a future version. Use pandas.concat instead.\n",
      "  final_df=final_df.append(df)\n",
      " 10%|████████▏                                                                      | 148/1433 [01:01<09:57,  2.15it/s]C:\\Users\\gaikw_000\\AppData\\Local\\Temp\\ipykernel_7332\\2861312848.py:7: FutureWarning: The frame.append method is deprecated and will be removed from pandas in a future version. Use pandas.concat instead.\n",
      "  final_df=final_df.append(df)\n",
      " 10%|████████▏                                                                      | 149/1433 [01:02<10:03,  2.13it/s]C:\\Users\\gaikw_000\\AppData\\Local\\Temp\\ipykernel_7332\\2861312848.py:7: FutureWarning: The frame.append method is deprecated and will be removed from pandas in a future version. Use pandas.concat instead.\n",
      "  final_df=final_df.append(df)\n",
      " 10%|████████▎                                                                      | 150/1433 [01:02<08:34,  2.49it/s]C:\\Users\\gaikw_000\\AppData\\Local\\Temp\\ipykernel_7332\\2861312848.py:7: FutureWarning: The frame.append method is deprecated and will be removed from pandas in a future version. Use pandas.concat instead.\n",
      "  final_df=final_df.append(df)\n",
      " 11%|████████▎                                                                      | 151/1433 [01:03<09:46,  2.19it/s]C:\\Users\\gaikw_000\\AppData\\Local\\Temp\\ipykernel_7332\\2861312848.py:7: FutureWarning: The frame.append method is deprecated and will be removed from pandas in a future version. Use pandas.concat instead.\n",
      "  final_df=final_df.append(df)\n",
      " 11%|████████▍                                                                      | 152/1433 [01:03<09:11,  2.32it/s]C:\\Users\\gaikw_000\\AppData\\Local\\Temp\\ipykernel_7332\\2861312848.py:7: FutureWarning: The frame.append method is deprecated and will be removed from pandas in a future version. Use pandas.concat instead.\n",
      "  final_df=final_df.append(df)\n",
      " 11%|████████▍                                                                      | 153/1433 [01:03<08:52,  2.40it/s]C:\\Users\\gaikw_000\\AppData\\Local\\Temp\\ipykernel_7332\\2861312848.py:7: FutureWarning: The frame.append method is deprecated and will be removed from pandas in a future version. Use pandas.concat instead.\n",
      "  final_df=final_df.append(df)\n",
      " 11%|████████▍                                                                      | 154/1433 [01:04<09:07,  2.34it/s]C:\\Users\\gaikw_000\\AppData\\Local\\Temp\\ipykernel_7332\\2861312848.py:7: FutureWarning: The frame.append method is deprecated and will be removed from pandas in a future version. Use pandas.concat instead.\n",
      "  final_df=final_df.append(df)\n",
      " 11%|████████▌                                                                      | 155/1433 [01:04<10:11,  2.09it/s]C:\\Users\\gaikw_000\\AppData\\Local\\Temp\\ipykernel_7332\\2861312848.py:7: FutureWarning: The frame.append method is deprecated and will be removed from pandas in a future version. Use pandas.concat instead.\n",
      "  final_df=final_df.append(df)\n",
      " 11%|████████▌                                                                      | 156/1433 [01:05<11:09,  1.91it/s]C:\\Users\\gaikw_000\\AppData\\Local\\Temp\\ipykernel_7332\\2861312848.py:7: FutureWarning: The frame.append method is deprecated and will be removed from pandas in a future version. Use pandas.concat instead.\n",
      "  final_df=final_df.append(df)\n",
      " 11%|████████▋                                                                      | 157/1433 [01:06<11:45,  1.81it/s]C:\\Users\\gaikw_000\\AppData\\Local\\Temp\\ipykernel_7332\\2861312848.py:7: FutureWarning: The frame.append method is deprecated and will be removed from pandas in a future version. Use pandas.concat instead.\n",
      "  final_df=final_df.append(df)\n",
      " 11%|████████▋                                                                      | 158/1433 [01:07<14:29,  1.47it/s]C:\\Users\\gaikw_000\\AppData\\Local\\Temp\\ipykernel_7332\\2861312848.py:7: FutureWarning: The frame.append method is deprecated and will be removed from pandas in a future version. Use pandas.concat instead.\n",
      "  final_df=final_df.append(df)\n",
      " 11%|████████▊                                                                      | 159/1433 [01:07<15:10,  1.40it/s]C:\\Users\\gaikw_000\\AppData\\Local\\Temp\\ipykernel_7332\\2861312848.py:7: FutureWarning: The frame.append method is deprecated and will be removed from pandas in a future version. Use pandas.concat instead.\n",
      "  final_df=final_df.append(df)\n",
      " 11%|████████▊                                                                      | 160/1433 [01:08<15:31,  1.37it/s]C:\\Users\\gaikw_000\\AppData\\Local\\Temp\\ipykernel_7332\\2861312848.py:7: FutureWarning: The frame.append method is deprecated and will be removed from pandas in a future version. Use pandas.concat instead.\n",
      "  final_df=final_df.append(df)\n"
     ]
    },
    {
     "name": "stderr",
     "output_type": "stream",
     "text": [
      " 11%|████████▉                                                                      | 161/1433 [01:09<15:50,  1.34it/s]C:\\Users\\gaikw_000\\AppData\\Local\\Temp\\ipykernel_7332\\2861312848.py:7: FutureWarning: The frame.append method is deprecated and will be removed from pandas in a future version. Use pandas.concat instead.\n",
      "  final_df=final_df.append(df)\n",
      " 11%|████████▉                                                                      | 162/1433 [01:10<15:10,  1.40it/s]C:\\Users\\gaikw_000\\AppData\\Local\\Temp\\ipykernel_7332\\2861312848.py:7: FutureWarning: The frame.append method is deprecated and will be removed from pandas in a future version. Use pandas.concat instead.\n",
      "  final_df=final_df.append(df)\n",
      " 11%|████████▉                                                                      | 163/1433 [01:10<14:49,  1.43it/s]C:\\Users\\gaikw_000\\AppData\\Local\\Temp\\ipykernel_7332\\2861312848.py:7: FutureWarning: The frame.append method is deprecated and will be removed from pandas in a future version. Use pandas.concat instead.\n",
      "  final_df=final_df.append(df)\n",
      " 11%|█████████                                                                      | 164/1433 [01:11<14:43,  1.44it/s]C:\\Users\\gaikw_000\\AppData\\Local\\Temp\\ipykernel_7332\\2861312848.py:7: FutureWarning: The frame.append method is deprecated and will be removed from pandas in a future version. Use pandas.concat instead.\n",
      "  final_df=final_df.append(df)\n",
      " 12%|█████████                                                                      | 165/1433 [01:12<14:32,  1.45it/s]C:\\Users\\gaikw_000\\AppData\\Local\\Temp\\ipykernel_7332\\2861312848.py:7: FutureWarning: The frame.append method is deprecated and will be removed from pandas in a future version. Use pandas.concat instead.\n",
      "  final_df=final_df.append(df)\n",
      " 12%|█████████▏                                                                     | 166/1433 [01:12<14:02,  1.50it/s]C:\\Users\\gaikw_000\\AppData\\Local\\Temp\\ipykernel_7332\\2861312848.py:7: FutureWarning: The frame.append method is deprecated and will be removed from pandas in a future version. Use pandas.concat instead.\n",
      "  final_df=final_df.append(df)\n",
      " 12%|█████████▏                                                                     | 167/1433 [01:13<15:57,  1.32it/s]C:\\Users\\gaikw_000\\AppData\\Local\\Temp\\ipykernel_7332\\2861312848.py:7: FutureWarning: The frame.append method is deprecated and will be removed from pandas in a future version. Use pandas.concat instead.\n",
      "  final_df=final_df.append(df)\n",
      " 12%|█████████▎                                                                     | 168/1433 [01:14<16:33,  1.27it/s]C:\\Users\\gaikw_000\\AppData\\Local\\Temp\\ipykernel_7332\\2861312848.py:7: FutureWarning: The frame.append method is deprecated and will be removed from pandas in a future version. Use pandas.concat instead.\n",
      "  final_df=final_df.append(df)\n",
      " 12%|█████████▎                                                                     | 169/1433 [01:15<17:30,  1.20it/s]C:\\Users\\gaikw_000\\AppData\\Local\\Temp\\ipykernel_7332\\2861312848.py:7: FutureWarning: The frame.append method is deprecated and will be removed from pandas in a future version. Use pandas.concat instead.\n",
      "  final_df=final_df.append(df)\n",
      " 12%|█████████▎                                                                     | 170/1433 [01:18<09:39,  2.18it/s]\n"
     ]
    },
    {
     "ename": "KeyboardInterrupt",
     "evalue": "",
     "output_type": "error",
     "traceback": [
      "\u001b[1;31m---------------------------------------------------------------------------\u001b[0m",
      "\u001b[1;31mKeyboardInterrupt\u001b[0m                         Traceback (most recent call last)",
      "Input \u001b[1;32mIn [4]\u001b[0m, in \u001b[0;36m<cell line: 3>\u001b[1;34m()\u001b[0m\n\u001b[0;32m      3\u001b[0m \u001b[38;5;28;01mfor\u001b[39;00m file \u001b[38;5;129;01min\u001b[39;00m tqdm(filenames):\n\u001b[0;32m      4\u001b[0m     \u001b[38;5;28;01mwith\u001b[39;00m \u001b[38;5;28mopen\u001b[39m(file) \u001b[38;5;28;01mas\u001b[39;00m f:\n\u001b[1;32m----> 5\u001b[0m         df\u001b[38;5;241m=\u001b[39mpd\u001b[38;5;241m.\u001b[39mjson_normalize(\u001b[43msafe_load\u001b[49m\u001b[43m(\u001b[49m\u001b[43mf\u001b[49m\u001b[43m)\u001b[49m)\n\u001b[0;32m      6\u001b[0m         df[\u001b[38;5;124m'\u001b[39m\u001b[38;5;124mmatch_id\u001b[39m\u001b[38;5;124m'\u001b[39m]\u001b[38;5;241m=\u001b[39mcounter\n\u001b[0;32m      7\u001b[0m         final_df\u001b[38;5;241m=\u001b[39mfinal_df\u001b[38;5;241m.\u001b[39mappend(df)\n",
      "File \u001b[1;32mC:\\ProgramData\\Anaconda3\\lib\\site-packages\\yaml\\__init__.py:125\u001b[0m, in \u001b[0;36msafe_load\u001b[1;34m(stream)\u001b[0m\n\u001b[0;32m    117\u001b[0m \u001b[38;5;28;01mdef\u001b[39;00m \u001b[38;5;21msafe_load\u001b[39m(stream):\n\u001b[0;32m    118\u001b[0m     \u001b[38;5;124;03m\"\"\"\u001b[39;00m\n\u001b[0;32m    119\u001b[0m \u001b[38;5;124;03m    Parse the first YAML document in a stream\u001b[39;00m\n\u001b[0;32m    120\u001b[0m \u001b[38;5;124;03m    and produce the corresponding Python object.\u001b[39;00m\n\u001b[1;32m   (...)\u001b[0m\n\u001b[0;32m    123\u001b[0m \u001b[38;5;124;03m    to be safe for untrusted input.\u001b[39;00m\n\u001b[0;32m    124\u001b[0m \u001b[38;5;124;03m    \"\"\"\u001b[39;00m\n\u001b[1;32m--> 125\u001b[0m     \u001b[38;5;28;01mreturn\u001b[39;00m \u001b[43mload\u001b[49m\u001b[43m(\u001b[49m\u001b[43mstream\u001b[49m\u001b[43m,\u001b[49m\u001b[43m \u001b[49m\u001b[43mSafeLoader\u001b[49m\u001b[43m)\u001b[49m\n",
      "File \u001b[1;32mC:\\ProgramData\\Anaconda3\\lib\\site-packages\\yaml\\__init__.py:81\u001b[0m, in \u001b[0;36mload\u001b[1;34m(stream, Loader)\u001b[0m\n\u001b[0;32m     79\u001b[0m loader \u001b[38;5;241m=\u001b[39m Loader(stream)\n\u001b[0;32m     80\u001b[0m \u001b[38;5;28;01mtry\u001b[39;00m:\n\u001b[1;32m---> 81\u001b[0m     \u001b[38;5;28;01mreturn\u001b[39;00m \u001b[43mloader\u001b[49m\u001b[38;5;241;43m.\u001b[39;49m\u001b[43mget_single_data\u001b[49m\u001b[43m(\u001b[49m\u001b[43m)\u001b[49m\n\u001b[0;32m     82\u001b[0m \u001b[38;5;28;01mfinally\u001b[39;00m:\n\u001b[0;32m     83\u001b[0m     loader\u001b[38;5;241m.\u001b[39mdispose()\n",
      "File \u001b[1;32mC:\\ProgramData\\Anaconda3\\lib\\site-packages\\yaml\\constructor.py:49\u001b[0m, in \u001b[0;36mBaseConstructor.get_single_data\u001b[1;34m(self)\u001b[0m\n\u001b[0;32m     47\u001b[0m \u001b[38;5;28;01mdef\u001b[39;00m \u001b[38;5;21mget_single_data\u001b[39m(\u001b[38;5;28mself\u001b[39m):\n\u001b[0;32m     48\u001b[0m     \u001b[38;5;66;03m# Ensure that the stream contains a single document and construct it.\u001b[39;00m\n\u001b[1;32m---> 49\u001b[0m     node \u001b[38;5;241m=\u001b[39m \u001b[38;5;28;43mself\u001b[39;49m\u001b[38;5;241;43m.\u001b[39;49m\u001b[43mget_single_node\u001b[49m\u001b[43m(\u001b[49m\u001b[43m)\u001b[49m\n\u001b[0;32m     50\u001b[0m     \u001b[38;5;28;01mif\u001b[39;00m node \u001b[38;5;129;01mis\u001b[39;00m \u001b[38;5;129;01mnot\u001b[39;00m \u001b[38;5;28;01mNone\u001b[39;00m:\n\u001b[0;32m     51\u001b[0m         \u001b[38;5;28;01mreturn\u001b[39;00m \u001b[38;5;28mself\u001b[39m\u001b[38;5;241m.\u001b[39mconstruct_document(node)\n",
      "File \u001b[1;32mC:\\ProgramData\\Anaconda3\\lib\\site-packages\\yaml\\composer.py:36\u001b[0m, in \u001b[0;36mComposer.get_single_node\u001b[1;34m(self)\u001b[0m\n\u001b[0;32m     34\u001b[0m document \u001b[38;5;241m=\u001b[39m \u001b[38;5;28;01mNone\u001b[39;00m\n\u001b[0;32m     35\u001b[0m \u001b[38;5;28;01mif\u001b[39;00m \u001b[38;5;129;01mnot\u001b[39;00m \u001b[38;5;28mself\u001b[39m\u001b[38;5;241m.\u001b[39mcheck_event(StreamEndEvent):\n\u001b[1;32m---> 36\u001b[0m     document \u001b[38;5;241m=\u001b[39m \u001b[38;5;28;43mself\u001b[39;49m\u001b[38;5;241;43m.\u001b[39;49m\u001b[43mcompose_document\u001b[49m\u001b[43m(\u001b[49m\u001b[43m)\u001b[49m\n\u001b[0;32m     38\u001b[0m \u001b[38;5;66;03m# Ensure that the stream contains no more documents.\u001b[39;00m\n\u001b[0;32m     39\u001b[0m \u001b[38;5;28;01mif\u001b[39;00m \u001b[38;5;129;01mnot\u001b[39;00m \u001b[38;5;28mself\u001b[39m\u001b[38;5;241m.\u001b[39mcheck_event(StreamEndEvent):\n",
      "File \u001b[1;32mC:\\ProgramData\\Anaconda3\\lib\\site-packages\\yaml\\composer.py:55\u001b[0m, in \u001b[0;36mComposer.compose_document\u001b[1;34m(self)\u001b[0m\n\u001b[0;32m     52\u001b[0m \u001b[38;5;28mself\u001b[39m\u001b[38;5;241m.\u001b[39mget_event()\n\u001b[0;32m     54\u001b[0m \u001b[38;5;66;03m# Compose the root node.\u001b[39;00m\n\u001b[1;32m---> 55\u001b[0m node \u001b[38;5;241m=\u001b[39m \u001b[38;5;28;43mself\u001b[39;49m\u001b[38;5;241;43m.\u001b[39;49m\u001b[43mcompose_node\u001b[49m\u001b[43m(\u001b[49m\u001b[38;5;28;43;01mNone\u001b[39;49;00m\u001b[43m,\u001b[49m\u001b[43m \u001b[49m\u001b[38;5;28;43;01mNone\u001b[39;49;00m\u001b[43m)\u001b[49m\n\u001b[0;32m     57\u001b[0m \u001b[38;5;66;03m# Drop the DOCUMENT-END event.\u001b[39;00m\n\u001b[0;32m     58\u001b[0m \u001b[38;5;28mself\u001b[39m\u001b[38;5;241m.\u001b[39mget_event()\n",
      "File \u001b[1;32mC:\\ProgramData\\Anaconda3\\lib\\site-packages\\yaml\\composer.py:84\u001b[0m, in \u001b[0;36mComposer.compose_node\u001b[1;34m(self, parent, index)\u001b[0m\n\u001b[0;32m     82\u001b[0m     node \u001b[38;5;241m=\u001b[39m \u001b[38;5;28mself\u001b[39m\u001b[38;5;241m.\u001b[39mcompose_sequence_node(anchor)\n\u001b[0;32m     83\u001b[0m \u001b[38;5;28;01melif\u001b[39;00m \u001b[38;5;28mself\u001b[39m\u001b[38;5;241m.\u001b[39mcheck_event(MappingStartEvent):\n\u001b[1;32m---> 84\u001b[0m     node \u001b[38;5;241m=\u001b[39m \u001b[38;5;28;43mself\u001b[39;49m\u001b[38;5;241;43m.\u001b[39;49m\u001b[43mcompose_mapping_node\u001b[49m\u001b[43m(\u001b[49m\u001b[43manchor\u001b[49m\u001b[43m)\u001b[49m\n\u001b[0;32m     85\u001b[0m \u001b[38;5;28mself\u001b[39m\u001b[38;5;241m.\u001b[39mascend_resolver()\n\u001b[0;32m     86\u001b[0m \u001b[38;5;28;01mreturn\u001b[39;00m node\n",
      "File \u001b[1;32mC:\\ProgramData\\Anaconda3\\lib\\site-packages\\yaml\\composer.py:133\u001b[0m, in \u001b[0;36mComposer.compose_mapping_node\u001b[1;34m(self, anchor)\u001b[0m\n\u001b[0;32m    129\u001b[0m item_key \u001b[38;5;241m=\u001b[39m \u001b[38;5;28mself\u001b[39m\u001b[38;5;241m.\u001b[39mcompose_node(node, \u001b[38;5;28;01mNone\u001b[39;00m)\n\u001b[0;32m    130\u001b[0m \u001b[38;5;66;03m#if item_key in node.value:\u001b[39;00m\n\u001b[0;32m    131\u001b[0m \u001b[38;5;66;03m#    raise ComposerError(\"while composing a mapping\", start_event.start_mark,\u001b[39;00m\n\u001b[0;32m    132\u001b[0m \u001b[38;5;66;03m#            \"found duplicate key\", key_event.start_mark)\u001b[39;00m\n\u001b[1;32m--> 133\u001b[0m item_value \u001b[38;5;241m=\u001b[39m \u001b[38;5;28;43mself\u001b[39;49m\u001b[38;5;241;43m.\u001b[39;49m\u001b[43mcompose_node\u001b[49m\u001b[43m(\u001b[49m\u001b[43mnode\u001b[49m\u001b[43m,\u001b[49m\u001b[43m \u001b[49m\u001b[43mitem_key\u001b[49m\u001b[43m)\u001b[49m\n\u001b[0;32m    134\u001b[0m \u001b[38;5;66;03m#node.value[item_key] = item_value\u001b[39;00m\n\u001b[0;32m    135\u001b[0m node\u001b[38;5;241m.\u001b[39mvalue\u001b[38;5;241m.\u001b[39mappend((item_key, item_value))\n",
      "File \u001b[1;32mC:\\ProgramData\\Anaconda3\\lib\\site-packages\\yaml\\composer.py:82\u001b[0m, in \u001b[0;36mComposer.compose_node\u001b[1;34m(self, parent, index)\u001b[0m\n\u001b[0;32m     80\u001b[0m     node \u001b[38;5;241m=\u001b[39m \u001b[38;5;28mself\u001b[39m\u001b[38;5;241m.\u001b[39mcompose_scalar_node(anchor)\n\u001b[0;32m     81\u001b[0m \u001b[38;5;28;01melif\u001b[39;00m \u001b[38;5;28mself\u001b[39m\u001b[38;5;241m.\u001b[39mcheck_event(SequenceStartEvent):\n\u001b[1;32m---> 82\u001b[0m     node \u001b[38;5;241m=\u001b[39m \u001b[38;5;28;43mself\u001b[39;49m\u001b[38;5;241;43m.\u001b[39;49m\u001b[43mcompose_sequence_node\u001b[49m\u001b[43m(\u001b[49m\u001b[43manchor\u001b[49m\u001b[43m)\u001b[49m\n\u001b[0;32m     83\u001b[0m \u001b[38;5;28;01melif\u001b[39;00m \u001b[38;5;28mself\u001b[39m\u001b[38;5;241m.\u001b[39mcheck_event(MappingStartEvent):\n\u001b[0;32m     84\u001b[0m     node \u001b[38;5;241m=\u001b[39m \u001b[38;5;28mself\u001b[39m\u001b[38;5;241m.\u001b[39mcompose_mapping_node(anchor)\n",
      "File \u001b[1;32mC:\\ProgramData\\Anaconda3\\lib\\site-packages\\yaml\\composer.py:111\u001b[0m, in \u001b[0;36mComposer.compose_sequence_node\u001b[1;34m(self, anchor)\u001b[0m\n\u001b[0;32m    109\u001b[0m index \u001b[38;5;241m=\u001b[39m \u001b[38;5;241m0\u001b[39m\n\u001b[0;32m    110\u001b[0m \u001b[38;5;28;01mwhile\u001b[39;00m \u001b[38;5;129;01mnot\u001b[39;00m \u001b[38;5;28mself\u001b[39m\u001b[38;5;241m.\u001b[39mcheck_event(SequenceEndEvent):\n\u001b[1;32m--> 111\u001b[0m     node\u001b[38;5;241m.\u001b[39mvalue\u001b[38;5;241m.\u001b[39mappend(\u001b[38;5;28;43mself\u001b[39;49m\u001b[38;5;241;43m.\u001b[39;49m\u001b[43mcompose_node\u001b[49m\u001b[43m(\u001b[49m\u001b[43mnode\u001b[49m\u001b[43m,\u001b[49m\u001b[43m \u001b[49m\u001b[43mindex\u001b[49m\u001b[43m)\u001b[49m)\n\u001b[0;32m    112\u001b[0m     index \u001b[38;5;241m+\u001b[39m\u001b[38;5;241m=\u001b[39m \u001b[38;5;241m1\u001b[39m\n\u001b[0;32m    113\u001b[0m end_event \u001b[38;5;241m=\u001b[39m \u001b[38;5;28mself\u001b[39m\u001b[38;5;241m.\u001b[39mget_event()\n",
      "File \u001b[1;32mC:\\ProgramData\\Anaconda3\\lib\\site-packages\\yaml\\composer.py:84\u001b[0m, in \u001b[0;36mComposer.compose_node\u001b[1;34m(self, parent, index)\u001b[0m\n\u001b[0;32m     82\u001b[0m     node \u001b[38;5;241m=\u001b[39m \u001b[38;5;28mself\u001b[39m\u001b[38;5;241m.\u001b[39mcompose_sequence_node(anchor)\n\u001b[0;32m     83\u001b[0m \u001b[38;5;28;01melif\u001b[39;00m \u001b[38;5;28mself\u001b[39m\u001b[38;5;241m.\u001b[39mcheck_event(MappingStartEvent):\n\u001b[1;32m---> 84\u001b[0m     node \u001b[38;5;241m=\u001b[39m \u001b[38;5;28;43mself\u001b[39;49m\u001b[38;5;241;43m.\u001b[39;49m\u001b[43mcompose_mapping_node\u001b[49m\u001b[43m(\u001b[49m\u001b[43manchor\u001b[49m\u001b[43m)\u001b[49m\n\u001b[0;32m     85\u001b[0m \u001b[38;5;28mself\u001b[39m\u001b[38;5;241m.\u001b[39mascend_resolver()\n\u001b[0;32m     86\u001b[0m \u001b[38;5;28;01mreturn\u001b[39;00m node\n",
      "File \u001b[1;32mC:\\ProgramData\\Anaconda3\\lib\\site-packages\\yaml\\composer.py:133\u001b[0m, in \u001b[0;36mComposer.compose_mapping_node\u001b[1;34m(self, anchor)\u001b[0m\n\u001b[0;32m    129\u001b[0m item_key \u001b[38;5;241m=\u001b[39m \u001b[38;5;28mself\u001b[39m\u001b[38;5;241m.\u001b[39mcompose_node(node, \u001b[38;5;28;01mNone\u001b[39;00m)\n\u001b[0;32m    130\u001b[0m \u001b[38;5;66;03m#if item_key in node.value:\u001b[39;00m\n\u001b[0;32m    131\u001b[0m \u001b[38;5;66;03m#    raise ComposerError(\"while composing a mapping\", start_event.start_mark,\u001b[39;00m\n\u001b[0;32m    132\u001b[0m \u001b[38;5;66;03m#            \"found duplicate key\", key_event.start_mark)\u001b[39;00m\n\u001b[1;32m--> 133\u001b[0m item_value \u001b[38;5;241m=\u001b[39m \u001b[38;5;28;43mself\u001b[39;49m\u001b[38;5;241;43m.\u001b[39;49m\u001b[43mcompose_node\u001b[49m\u001b[43m(\u001b[49m\u001b[43mnode\u001b[49m\u001b[43m,\u001b[49m\u001b[43m \u001b[49m\u001b[43mitem_key\u001b[49m\u001b[43m)\u001b[49m\n\u001b[0;32m    134\u001b[0m \u001b[38;5;66;03m#node.value[item_key] = item_value\u001b[39;00m\n\u001b[0;32m    135\u001b[0m node\u001b[38;5;241m.\u001b[39mvalue\u001b[38;5;241m.\u001b[39mappend((item_key, item_value))\n",
      "File \u001b[1;32mC:\\ProgramData\\Anaconda3\\lib\\site-packages\\yaml\\composer.py:84\u001b[0m, in \u001b[0;36mComposer.compose_node\u001b[1;34m(self, parent, index)\u001b[0m\n\u001b[0;32m     82\u001b[0m     node \u001b[38;5;241m=\u001b[39m \u001b[38;5;28mself\u001b[39m\u001b[38;5;241m.\u001b[39mcompose_sequence_node(anchor)\n\u001b[0;32m     83\u001b[0m \u001b[38;5;28;01melif\u001b[39;00m \u001b[38;5;28mself\u001b[39m\u001b[38;5;241m.\u001b[39mcheck_event(MappingStartEvent):\n\u001b[1;32m---> 84\u001b[0m     node \u001b[38;5;241m=\u001b[39m \u001b[38;5;28;43mself\u001b[39;49m\u001b[38;5;241;43m.\u001b[39;49m\u001b[43mcompose_mapping_node\u001b[49m\u001b[43m(\u001b[49m\u001b[43manchor\u001b[49m\u001b[43m)\u001b[49m\n\u001b[0;32m     85\u001b[0m \u001b[38;5;28mself\u001b[39m\u001b[38;5;241m.\u001b[39mascend_resolver()\n\u001b[0;32m     86\u001b[0m \u001b[38;5;28;01mreturn\u001b[39;00m node\n",
      "File \u001b[1;32mC:\\ProgramData\\Anaconda3\\lib\\site-packages\\yaml\\composer.py:133\u001b[0m, in \u001b[0;36mComposer.compose_mapping_node\u001b[1;34m(self, anchor)\u001b[0m\n\u001b[0;32m    129\u001b[0m item_key \u001b[38;5;241m=\u001b[39m \u001b[38;5;28mself\u001b[39m\u001b[38;5;241m.\u001b[39mcompose_node(node, \u001b[38;5;28;01mNone\u001b[39;00m)\n\u001b[0;32m    130\u001b[0m \u001b[38;5;66;03m#if item_key in node.value:\u001b[39;00m\n\u001b[0;32m    131\u001b[0m \u001b[38;5;66;03m#    raise ComposerError(\"while composing a mapping\", start_event.start_mark,\u001b[39;00m\n\u001b[0;32m    132\u001b[0m \u001b[38;5;66;03m#            \"found duplicate key\", key_event.start_mark)\u001b[39;00m\n\u001b[1;32m--> 133\u001b[0m item_value \u001b[38;5;241m=\u001b[39m \u001b[38;5;28;43mself\u001b[39;49m\u001b[38;5;241;43m.\u001b[39;49m\u001b[43mcompose_node\u001b[49m\u001b[43m(\u001b[49m\u001b[43mnode\u001b[49m\u001b[43m,\u001b[49m\u001b[43m \u001b[49m\u001b[43mitem_key\u001b[49m\u001b[43m)\u001b[49m\n\u001b[0;32m    134\u001b[0m \u001b[38;5;66;03m#node.value[item_key] = item_value\u001b[39;00m\n\u001b[0;32m    135\u001b[0m node\u001b[38;5;241m.\u001b[39mvalue\u001b[38;5;241m.\u001b[39mappend((item_key, item_value))\n",
      "File \u001b[1;32mC:\\ProgramData\\Anaconda3\\lib\\site-packages\\yaml\\composer.py:82\u001b[0m, in \u001b[0;36mComposer.compose_node\u001b[1;34m(self, parent, index)\u001b[0m\n\u001b[0;32m     80\u001b[0m     node \u001b[38;5;241m=\u001b[39m \u001b[38;5;28mself\u001b[39m\u001b[38;5;241m.\u001b[39mcompose_scalar_node(anchor)\n\u001b[0;32m     81\u001b[0m \u001b[38;5;28;01melif\u001b[39;00m \u001b[38;5;28mself\u001b[39m\u001b[38;5;241m.\u001b[39mcheck_event(SequenceStartEvent):\n\u001b[1;32m---> 82\u001b[0m     node \u001b[38;5;241m=\u001b[39m \u001b[38;5;28;43mself\u001b[39;49m\u001b[38;5;241;43m.\u001b[39;49m\u001b[43mcompose_sequence_node\u001b[49m\u001b[43m(\u001b[49m\u001b[43manchor\u001b[49m\u001b[43m)\u001b[49m\n\u001b[0;32m     83\u001b[0m \u001b[38;5;28;01melif\u001b[39;00m \u001b[38;5;28mself\u001b[39m\u001b[38;5;241m.\u001b[39mcheck_event(MappingStartEvent):\n\u001b[0;32m     84\u001b[0m     node \u001b[38;5;241m=\u001b[39m \u001b[38;5;28mself\u001b[39m\u001b[38;5;241m.\u001b[39mcompose_mapping_node(anchor)\n",
      "File \u001b[1;32mC:\\ProgramData\\Anaconda3\\lib\\site-packages\\yaml\\composer.py:111\u001b[0m, in \u001b[0;36mComposer.compose_sequence_node\u001b[1;34m(self, anchor)\u001b[0m\n\u001b[0;32m    109\u001b[0m index \u001b[38;5;241m=\u001b[39m \u001b[38;5;241m0\u001b[39m\n\u001b[0;32m    110\u001b[0m \u001b[38;5;28;01mwhile\u001b[39;00m \u001b[38;5;129;01mnot\u001b[39;00m \u001b[38;5;28mself\u001b[39m\u001b[38;5;241m.\u001b[39mcheck_event(SequenceEndEvent):\n\u001b[1;32m--> 111\u001b[0m     node\u001b[38;5;241m.\u001b[39mvalue\u001b[38;5;241m.\u001b[39mappend(\u001b[38;5;28;43mself\u001b[39;49m\u001b[38;5;241;43m.\u001b[39;49m\u001b[43mcompose_node\u001b[49m\u001b[43m(\u001b[49m\u001b[43mnode\u001b[49m\u001b[43m,\u001b[49m\u001b[43m \u001b[49m\u001b[43mindex\u001b[49m\u001b[43m)\u001b[49m)\n\u001b[0;32m    112\u001b[0m     index \u001b[38;5;241m+\u001b[39m\u001b[38;5;241m=\u001b[39m \u001b[38;5;241m1\u001b[39m\n\u001b[0;32m    113\u001b[0m end_event \u001b[38;5;241m=\u001b[39m \u001b[38;5;28mself\u001b[39m\u001b[38;5;241m.\u001b[39mget_event()\n",
      "File \u001b[1;32mC:\\ProgramData\\Anaconda3\\lib\\site-packages\\yaml\\composer.py:84\u001b[0m, in \u001b[0;36mComposer.compose_node\u001b[1;34m(self, parent, index)\u001b[0m\n\u001b[0;32m     82\u001b[0m     node \u001b[38;5;241m=\u001b[39m \u001b[38;5;28mself\u001b[39m\u001b[38;5;241m.\u001b[39mcompose_sequence_node(anchor)\n\u001b[0;32m     83\u001b[0m \u001b[38;5;28;01melif\u001b[39;00m \u001b[38;5;28mself\u001b[39m\u001b[38;5;241m.\u001b[39mcheck_event(MappingStartEvent):\n\u001b[1;32m---> 84\u001b[0m     node \u001b[38;5;241m=\u001b[39m \u001b[38;5;28;43mself\u001b[39;49m\u001b[38;5;241;43m.\u001b[39;49m\u001b[43mcompose_mapping_node\u001b[49m\u001b[43m(\u001b[49m\u001b[43manchor\u001b[49m\u001b[43m)\u001b[49m\n\u001b[0;32m     85\u001b[0m \u001b[38;5;28mself\u001b[39m\u001b[38;5;241m.\u001b[39mascend_resolver()\n\u001b[0;32m     86\u001b[0m \u001b[38;5;28;01mreturn\u001b[39;00m node\n",
      "File \u001b[1;32mC:\\ProgramData\\Anaconda3\\lib\\site-packages\\yaml\\composer.py:133\u001b[0m, in \u001b[0;36mComposer.compose_mapping_node\u001b[1;34m(self, anchor)\u001b[0m\n\u001b[0;32m    129\u001b[0m item_key \u001b[38;5;241m=\u001b[39m \u001b[38;5;28mself\u001b[39m\u001b[38;5;241m.\u001b[39mcompose_node(node, \u001b[38;5;28;01mNone\u001b[39;00m)\n\u001b[0;32m    130\u001b[0m \u001b[38;5;66;03m#if item_key in node.value:\u001b[39;00m\n\u001b[0;32m    131\u001b[0m \u001b[38;5;66;03m#    raise ComposerError(\"while composing a mapping\", start_event.start_mark,\u001b[39;00m\n\u001b[0;32m    132\u001b[0m \u001b[38;5;66;03m#            \"found duplicate key\", key_event.start_mark)\u001b[39;00m\n\u001b[1;32m--> 133\u001b[0m item_value \u001b[38;5;241m=\u001b[39m \u001b[38;5;28;43mself\u001b[39;49m\u001b[38;5;241;43m.\u001b[39;49m\u001b[43mcompose_node\u001b[49m\u001b[43m(\u001b[49m\u001b[43mnode\u001b[49m\u001b[43m,\u001b[49m\u001b[43m \u001b[49m\u001b[43mitem_key\u001b[49m\u001b[43m)\u001b[49m\n\u001b[0;32m    134\u001b[0m \u001b[38;5;66;03m#node.value[item_key] = item_value\u001b[39;00m\n\u001b[0;32m    135\u001b[0m node\u001b[38;5;241m.\u001b[39mvalue\u001b[38;5;241m.\u001b[39mappend((item_key, item_value))\n",
      "File \u001b[1;32mC:\\ProgramData\\Anaconda3\\lib\\site-packages\\yaml\\composer.py:84\u001b[0m, in \u001b[0;36mComposer.compose_node\u001b[1;34m(self, parent, index)\u001b[0m\n\u001b[0;32m     82\u001b[0m     node \u001b[38;5;241m=\u001b[39m \u001b[38;5;28mself\u001b[39m\u001b[38;5;241m.\u001b[39mcompose_sequence_node(anchor)\n\u001b[0;32m     83\u001b[0m \u001b[38;5;28;01melif\u001b[39;00m \u001b[38;5;28mself\u001b[39m\u001b[38;5;241m.\u001b[39mcheck_event(MappingStartEvent):\n\u001b[1;32m---> 84\u001b[0m     node \u001b[38;5;241m=\u001b[39m \u001b[38;5;28;43mself\u001b[39;49m\u001b[38;5;241;43m.\u001b[39;49m\u001b[43mcompose_mapping_node\u001b[49m\u001b[43m(\u001b[49m\u001b[43manchor\u001b[49m\u001b[43m)\u001b[49m\n\u001b[0;32m     85\u001b[0m \u001b[38;5;28mself\u001b[39m\u001b[38;5;241m.\u001b[39mascend_resolver()\n\u001b[0;32m     86\u001b[0m \u001b[38;5;28;01mreturn\u001b[39;00m node\n",
      "File \u001b[1;32mC:\\ProgramData\\Anaconda3\\lib\\site-packages\\yaml\\composer.py:133\u001b[0m, in \u001b[0;36mComposer.compose_mapping_node\u001b[1;34m(self, anchor)\u001b[0m\n\u001b[0;32m    129\u001b[0m item_key \u001b[38;5;241m=\u001b[39m \u001b[38;5;28mself\u001b[39m\u001b[38;5;241m.\u001b[39mcompose_node(node, \u001b[38;5;28;01mNone\u001b[39;00m)\n\u001b[0;32m    130\u001b[0m \u001b[38;5;66;03m#if item_key in node.value:\u001b[39;00m\n\u001b[0;32m    131\u001b[0m \u001b[38;5;66;03m#    raise ComposerError(\"while composing a mapping\", start_event.start_mark,\u001b[39;00m\n\u001b[0;32m    132\u001b[0m \u001b[38;5;66;03m#            \"found duplicate key\", key_event.start_mark)\u001b[39;00m\n\u001b[1;32m--> 133\u001b[0m item_value \u001b[38;5;241m=\u001b[39m \u001b[38;5;28;43mself\u001b[39;49m\u001b[38;5;241;43m.\u001b[39;49m\u001b[43mcompose_node\u001b[49m\u001b[43m(\u001b[49m\u001b[43mnode\u001b[49m\u001b[43m,\u001b[49m\u001b[43m \u001b[49m\u001b[43mitem_key\u001b[49m\u001b[43m)\u001b[49m\n\u001b[0;32m    134\u001b[0m \u001b[38;5;66;03m#node.value[item_key] = item_value\u001b[39;00m\n\u001b[0;32m    135\u001b[0m node\u001b[38;5;241m.\u001b[39mvalue\u001b[38;5;241m.\u001b[39mappend((item_key, item_value))\n",
      "File \u001b[1;32mC:\\ProgramData\\Anaconda3\\lib\\site-packages\\yaml\\composer.py:64\u001b[0m, in \u001b[0;36mComposer.compose_node\u001b[1;34m(self, parent, index)\u001b[0m\n\u001b[0;32m     63\u001b[0m \u001b[38;5;28;01mdef\u001b[39;00m \u001b[38;5;21mcompose_node\u001b[39m(\u001b[38;5;28mself\u001b[39m, parent, index):\n\u001b[1;32m---> 64\u001b[0m     \u001b[38;5;28;01mif\u001b[39;00m \u001b[38;5;28;43mself\u001b[39;49m\u001b[38;5;241;43m.\u001b[39;49m\u001b[43mcheck_event\u001b[49m\u001b[43m(\u001b[49m\u001b[43mAliasEvent\u001b[49m\u001b[43m)\u001b[49m:\n\u001b[0;32m     65\u001b[0m         event \u001b[38;5;241m=\u001b[39m \u001b[38;5;28mself\u001b[39m\u001b[38;5;241m.\u001b[39mget_event()\n\u001b[0;32m     66\u001b[0m         anchor \u001b[38;5;241m=\u001b[39m event\u001b[38;5;241m.\u001b[39manchor\n",
      "File \u001b[1;32mC:\\ProgramData\\Anaconda3\\lib\\site-packages\\yaml\\parser.py:98\u001b[0m, in \u001b[0;36mParser.check_event\u001b[1;34m(self, *choices)\u001b[0m\n\u001b[0;32m     96\u001b[0m \u001b[38;5;28;01mif\u001b[39;00m \u001b[38;5;28mself\u001b[39m\u001b[38;5;241m.\u001b[39mcurrent_event \u001b[38;5;129;01mis\u001b[39;00m \u001b[38;5;28;01mNone\u001b[39;00m:\n\u001b[0;32m     97\u001b[0m     \u001b[38;5;28;01mif\u001b[39;00m \u001b[38;5;28mself\u001b[39m\u001b[38;5;241m.\u001b[39mstate:\n\u001b[1;32m---> 98\u001b[0m         \u001b[38;5;28mself\u001b[39m\u001b[38;5;241m.\u001b[39mcurrent_event \u001b[38;5;241m=\u001b[39m \u001b[38;5;28;43mself\u001b[39;49m\u001b[38;5;241;43m.\u001b[39;49m\u001b[43mstate\u001b[49m\u001b[43m(\u001b[49m\u001b[43m)\u001b[49m\n\u001b[0;32m     99\u001b[0m \u001b[38;5;28;01mif\u001b[39;00m \u001b[38;5;28mself\u001b[39m\u001b[38;5;241m.\u001b[39mcurrent_event \u001b[38;5;129;01mis\u001b[39;00m \u001b[38;5;129;01mnot\u001b[39;00m \u001b[38;5;28;01mNone\u001b[39;00m:\n\u001b[0;32m    100\u001b[0m     \u001b[38;5;28;01mif\u001b[39;00m \u001b[38;5;129;01mnot\u001b[39;00m choices:\n",
      "File \u001b[1;32mC:\\ProgramData\\Anaconda3\\lib\\site-packages\\yaml\\parser.py:448\u001b[0m, in \u001b[0;36mParser.parse_block_mapping_value\u001b[1;34m(self)\u001b[0m\n\u001b[0;32m    446\u001b[0m \u001b[38;5;28;01mdef\u001b[39;00m \u001b[38;5;21mparse_block_mapping_value\u001b[39m(\u001b[38;5;28mself\u001b[39m):\n\u001b[0;32m    447\u001b[0m     \u001b[38;5;28;01mif\u001b[39;00m \u001b[38;5;28mself\u001b[39m\u001b[38;5;241m.\u001b[39mcheck_token(ValueToken):\n\u001b[1;32m--> 448\u001b[0m         token \u001b[38;5;241m=\u001b[39m \u001b[38;5;28;43mself\u001b[39;49m\u001b[38;5;241;43m.\u001b[39;49m\u001b[43mget_token\u001b[49m\u001b[43m(\u001b[49m\u001b[43m)\u001b[49m\n\u001b[0;32m    449\u001b[0m         \u001b[38;5;28;01mif\u001b[39;00m \u001b[38;5;129;01mnot\u001b[39;00m \u001b[38;5;28mself\u001b[39m\u001b[38;5;241m.\u001b[39mcheck_token(KeyToken, ValueToken, BlockEndToken):\n\u001b[0;32m    450\u001b[0m             \u001b[38;5;28mself\u001b[39m\u001b[38;5;241m.\u001b[39mstates\u001b[38;5;241m.\u001b[39mappend(\u001b[38;5;28mself\u001b[39m\u001b[38;5;241m.\u001b[39mparse_block_mapping_key)\n",
      "File \u001b[1;32mC:\\ProgramData\\Anaconda3\\lib\\site-packages\\yaml\\scanner.py:137\u001b[0m, in \u001b[0;36mScanner.get_token\u001b[1;34m(self)\u001b[0m\n\u001b[0;32m    135\u001b[0m \u001b[38;5;28;01mdef\u001b[39;00m \u001b[38;5;21mget_token\u001b[39m(\u001b[38;5;28mself\u001b[39m):\n\u001b[0;32m    136\u001b[0m     \u001b[38;5;66;03m# Return the next token.\u001b[39;00m\n\u001b[1;32m--> 137\u001b[0m     \u001b[38;5;28;01mwhile\u001b[39;00m \u001b[38;5;28;43mself\u001b[39;49m\u001b[38;5;241;43m.\u001b[39;49m\u001b[43mneed_more_tokens\u001b[49m\u001b[43m(\u001b[49m\u001b[43m)\u001b[49m:\n\u001b[0;32m    138\u001b[0m         \u001b[38;5;28mself\u001b[39m\u001b[38;5;241m.\u001b[39mfetch_more_tokens()\n\u001b[0;32m    139\u001b[0m     \u001b[38;5;28;01mif\u001b[39;00m \u001b[38;5;28mself\u001b[39m\u001b[38;5;241m.\u001b[39mtokens:\n",
      "File \u001b[1;32mC:\\ProgramData\\Anaconda3\\lib\\site-packages\\yaml\\scanner.py:153\u001b[0m, in \u001b[0;36mScanner.need_more_tokens\u001b[1;34m(self)\u001b[0m\n\u001b[0;32m    150\u001b[0m \u001b[38;5;66;03m# The current token may be a potential simple key, so we\u001b[39;00m\n\u001b[0;32m    151\u001b[0m \u001b[38;5;66;03m# need to look further.\u001b[39;00m\n\u001b[0;32m    152\u001b[0m \u001b[38;5;28mself\u001b[39m\u001b[38;5;241m.\u001b[39mstale_possible_simple_keys()\n\u001b[1;32m--> 153\u001b[0m \u001b[38;5;28;01mif\u001b[39;00m \u001b[38;5;28;43mself\u001b[39;49m\u001b[38;5;241;43m.\u001b[39;49m\u001b[43mnext_possible_simple_key\u001b[49m\u001b[43m(\u001b[49m\u001b[43m)\u001b[49m \u001b[38;5;241m==\u001b[39m \u001b[38;5;28mself\u001b[39m\u001b[38;5;241m.\u001b[39mtokens_taken:\n\u001b[0;32m    154\u001b[0m     \u001b[38;5;28;01mreturn\u001b[39;00m \u001b[38;5;28;01mTrue\u001b[39;00m\n",
      "File \u001b[1;32mC:\\ProgramData\\Anaconda3\\lib\\site-packages\\yaml\\scanner.py:264\u001b[0m, in \u001b[0;36mScanner.next_possible_simple_key\u001b[1;34m(self)\u001b[0m\n\u001b[0;32m    258\u001b[0m     \u001b[38;5;28;01mraise\u001b[39;00m ScannerError(\u001b[38;5;124m\"\u001b[39m\u001b[38;5;124mwhile scanning for the next token\u001b[39m\u001b[38;5;124m\"\u001b[39m, \u001b[38;5;28;01mNone\u001b[39;00m,\n\u001b[0;32m    259\u001b[0m             \u001b[38;5;124m\"\u001b[39m\u001b[38;5;124mfound character \u001b[39m\u001b[38;5;132;01m%r\u001b[39;00m\u001b[38;5;124m that cannot start any token\u001b[39m\u001b[38;5;124m\"\u001b[39m \u001b[38;5;241m%\u001b[39m ch,\n\u001b[0;32m    260\u001b[0m             \u001b[38;5;28mself\u001b[39m\u001b[38;5;241m.\u001b[39mget_mark())\n\u001b[0;32m    262\u001b[0m \u001b[38;5;66;03m# Simple keys treatment.\u001b[39;00m\n\u001b[1;32m--> 264\u001b[0m \u001b[38;5;28;01mdef\u001b[39;00m \u001b[38;5;21mnext_possible_simple_key\u001b[39m(\u001b[38;5;28mself\u001b[39m):\n\u001b[0;32m    265\u001b[0m     \u001b[38;5;66;03m# Return the number of the nearest possible simple key. Actually we\u001b[39;00m\n\u001b[0;32m    266\u001b[0m     \u001b[38;5;66;03m# don't need to loop through the whole dictionary. We may replace it\u001b[39;00m\n\u001b[0;32m    267\u001b[0m     \u001b[38;5;66;03m# with the following code:\u001b[39;00m\n\u001b[0;32m    268\u001b[0m     \u001b[38;5;66;03m#   if not self.possible_simple_keys:\u001b[39;00m\n\u001b[0;32m    269\u001b[0m     \u001b[38;5;66;03m#       return None\u001b[39;00m\n\u001b[0;32m    270\u001b[0m     \u001b[38;5;66;03m#   return self.possible_simple_keys[\u001b[39;00m\n\u001b[0;32m    271\u001b[0m     \u001b[38;5;66;03m#           min(self.possible_simple_keys.keys())].token_number\u001b[39;00m\n\u001b[0;32m    272\u001b[0m     min_token_number \u001b[38;5;241m=\u001b[39m \u001b[38;5;28;01mNone\u001b[39;00m\n\u001b[0;32m    273\u001b[0m     \u001b[38;5;28;01mfor\u001b[39;00m level \u001b[38;5;129;01min\u001b[39;00m \u001b[38;5;28mself\u001b[39m\u001b[38;5;241m.\u001b[39mpossible_simple_keys:\n",
      "\u001b[1;31mKeyboardInterrupt\u001b[0m: "
     ]
    }
   ],
   "source": [
    "final_df=pd.DataFrame()\n",
    "counter=1\n",
    "for file in tqdm(filenames):\n",
    "    with open(file) as f:\n",
    "        df=pd.json_normalize(safe_load(f))\n",
    "        df['match_id']=counter\n",
    "        final_df=final_df.append(df)\n",
    "        counter+=1\n",
    "        \n",
    "final_df"
   ]
  },
  {
   "cell_type": "code",
   "execution_count": null,
   "id": "97ea0b34",
   "metadata": {},
   "outputs": [],
   "source": [
    "final_df.sample(1)"
   ]
  },
  {
   "cell_type": "code",
   "execution_count": null,
   "id": "891351f0",
   "metadata": {},
   "outputs": [],
   "source": [
    "final_df['match_id'].head()"
   ]
  },
  {
   "cell_type": "code",
   "execution_count": null,
   "id": "c9b556e1",
   "metadata": {},
   "outputs": [],
   "source": [
    "backup=final_df.copy()"
   ]
  },
  {
   "cell_type": "code",
   "execution_count": null,
   "id": "5cded4db",
   "metadata": {},
   "outputs": [],
   "source": [
    "final_df.columns"
   ]
  },
  {
   "cell_type": "code",
   "execution_count": null,
   "id": "3031b7e0",
   "metadata": {},
   "outputs": [],
   "source": [
    "final_df.drop(columns=[\n",
    "    'meta.data_version', \n",
    "    'meta.created', \n",
    "    'meta.revision',\n",
    "    'info.outcome.bowl_out',\n",
    "    'info.bowl_out',\n",
    "    'info.supersubs.New Zealand',\n",
    "    'info.supersubs.South Africa',\n",
    "    'info.outcome.method', \n",
    "    'info.outcome.result',\n",
    "    'info.outcome.eliminator',\n",
    "    'info.match_type_number',\n",
    "    'info.neutral_venue',\n",
    "    'info.outcome.by.runs',\n",
    "    'info.outcome.by.wickets'\n",
    "],inplace=True)"
   ]
  },
  {
   "cell_type": "code",
   "execution_count": null,
   "id": "89b3bcac",
   "metadata": {},
   "outputs": [],
   "source": [
    "final_df['info.gender'].value_counts()"
   ]
  },
  {
   "cell_type": "code",
   "execution_count": null,
   "id": "80ba9452",
   "metadata": {},
   "outputs": [],
   "source": [
    "final_df=final_df[final_df['info.gender']=='male']\n",
    "final_df.drop(columns=['info.gender'],inplace=True)\n",
    "final_df"
   ]
  },
  {
   "cell_type": "code",
   "execution_count": null,
   "id": "12538704",
   "metadata": {},
   "outputs": [],
   "source": [
    "final_df.head(1)"
   ]
  },
  {
   "cell_type": "code",
   "execution_count": null,
   "id": "4c11428e",
   "metadata": {},
   "outputs": [],
   "source": [
    "final_df['info.match_type'].value_counts()"
   ]
  },
  {
   "cell_type": "code",
   "execution_count": null,
   "id": "27e668d8",
   "metadata": {},
   "outputs": [],
   "source": [
    "final_df['info.overs'].value_counts()"
   ]
  },
  {
   "cell_type": "code",
   "execution_count": null,
   "id": "0f29fb16",
   "metadata": {},
   "outputs": [],
   "source": [
    "final_df=final_df[final_df['info.overs']== 20]\n",
    "final_df.drop(columns=['info.overs','info.match_type'],inplace=True)\n",
    "final_df"
   ]
  },
  {
   "cell_type": "code",
   "execution_count": null,
   "id": "b7b8b7ab",
   "metadata": {},
   "outputs": [],
   "source": [
    "#pickle.dump(final_df,open('dataset_levvel1.pkl','wb'))"
   ]
  },
  {
   "cell_type": "code",
   "execution_count": null,
   "id": "82e5348d",
   "metadata": {},
   "outputs": [],
   "source": [
    "#matches=pickle.load(open('dataset_levvel1.pkl','rb'))\n",
    "matches"
   ]
  },
  {
   "cell_type": "code",
   "execution_count": null,
   "id": "ac81484b",
   "metadata": {},
   "outputs": [],
   "source": [
    "count=1\n",
    "delivery_df=pd.DataFrame()\n",
    "for index,row in matches.iterrows():\n",
    "    if count in [75,108,150,180,268,360,443,458,584,748,982,1052,1111,1226,1345]:\n",
    "        count+=1\n",
    "        continue\n",
    "    count+=1\n",
    "    ball_of_match=[]\n",
    "    batsman=[]\n",
    "    bowler=[]\n",
    "    runs=[]\n",
    "    player_of_dismissed=[]\n",
    "    teams=[]\n",
    "    batting_team=[]\n",
    "    match_id=[]\n",
    "    city=[]\n",
    "    venue=[]\n",
    "    for ball in row['innings'][0]['1st innings']['deliveries']:\n",
    "        for key in ball.keys():\n",
    "            match_id.append(count)\n",
    "            batting_team.append(row['innings'][0]['1st innings']['team'])\n",
    "            teams.append(row['info.teams'])\n",
    "            ball_of_match.append(key)\n",
    "            batsman.append(ball[key]['batsman'])\n",
    "            bowler.append(ball[key]['bowler'])\n",
    "            runs.append(ball[key]['runs']['total'])\n",
    "            city.append(row['info.city'])\n",
    "            venue.append(row['info.venue'])\n",
    "            try:\n",
    "                player_of_dismissed.append(ball[key]['wicket']['player_out'])\n",
    "            except:\n",
    "                player_of_dismissed.append('0')\n",
    "    loop_df=pd.DataFrame({\n",
    "        'match_id':match_id,\n",
    "        'teams':teams,\n",
    "        'batting_team':batting_team,\n",
    "        'ball':ball_of_match,\n",
    "        'batsman':batsman,\n",
    "        'bowler':bowler,\n",
    "        'runs':runs,\n",
    "        'player_dismissed':player_of_dismissed,\n",
    "        'city':city,\n",
    "        'venue':venue\n",
    "    })\n",
    "    \n",
    "    delivery_df=delivery_df.append(loop_df)"
   ]
  },
  {
   "cell_type": "code",
   "execution_count": null,
   "id": "411beef3",
   "metadata": {},
   "outputs": [],
   "source": [
    "delivery_df"
   ]
  },
  {
   "cell_type": "code",
   "execution_count": null,
   "id": "210b3ab6",
   "metadata": {},
   "outputs": [],
   "source": [
    "def bowl(row):\n",
    "    for team in row['teams']:\n",
    "        if team!=row['batting_team']:\n",
    "            return team"
   ]
  },
  {
   "cell_type": "code",
   "execution_count": null,
   "id": "8cfc8ef1",
   "metadata": {},
   "outputs": [],
   "source": [
    "delivery_df['bowling_team']=delivery_df.apply(bowl,axis=1)"
   ]
  },
  {
   "cell_type": "code",
   "execution_count": null,
   "id": "b5961a9c",
   "metadata": {},
   "outputs": [],
   "source": [
    "delivery_df['bowling_team']"
   ]
  },
  {
   "cell_type": "code",
   "execution_count": null,
   "id": "eb773546",
   "metadata": {},
   "outputs": [],
   "source": [
    "#delivery_df.drop(columns=['teams'],inplace=True)"
   ]
  },
  {
   "cell_type": "code",
   "execution_count": null,
   "id": "2116b08e",
   "metadata": {},
   "outputs": [],
   "source": [
    "delivery_df['batting_team'].value_counts()"
   ]
  },
  {
   "cell_type": "code",
   "execution_count": null,
   "id": "d7fe9144",
   "metadata": {},
   "outputs": [],
   "source": [
    "teams=[\n",
    "    'Bangladesh', \n",
    "    'Afghanistan',\n",
    "    'England',\n",
    "    'Australia',\n",
    "    'West Indies',\n",
    "    'Sri Lanka',\n",
    "    'New Zealand',\n",
    "    'India',\n",
    "    'South Africa',\n",
    "    'Pakistan'\n",
    "]"
   ]
  },
  {
   "cell_type": "code",
   "execution_count": null,
   "id": "66074f01",
   "metadata": {},
   "outputs": [],
   "source": []
  },
  {
   "cell_type": "code",
   "execution_count": null,
   "id": "482e8ed1",
   "metadata": {},
   "outputs": [],
   "source": [
    "delivery_df=delivery_df[delivery_df['batting_team'].isin(teams)]\n",
    "delivery_df=delivery_df[delivery_df['bowling_team'].isin(teams)]"
   ]
  },
  {
   "cell_type": "code",
   "execution_count": null,
   "id": "92161d44",
   "metadata": {},
   "outputs": [],
   "source": [
    "output=delivery_df[['match_id','batting_team','bowling_team','ball','runs','player_dismissed','city','venue']]"
   ]
  },
  {
   "cell_type": "code",
   "execution_count": null,
   "id": "527d326c",
   "metadata": {},
   "outputs": [],
   "source": [
    "output"
   ]
  },
  {
   "cell_type": "code",
   "execution_count": null,
   "id": "a5408d28",
   "metadata": {},
   "outputs": [],
   "source": [
    "pickle.dump(output,open('dataset_level2.pkl','wb'))"
   ]
  },
  {
   "cell_type": "code",
   "execution_count": null,
   "id": "7213eacd",
   "metadata": {},
   "outputs": [],
   "source": []
  },
  {
   "cell_type": "code",
   "execution_count": null,
   "id": "c2c2acbc",
   "metadata": {},
   "outputs": [],
   "source": []
  }
 ],
 "metadata": {
  "kernelspec": {
   "display_name": "Python 3 (ipykernel)",
   "language": "python",
   "name": "python3"
  },
  "language_info": {
   "codemirror_mode": {
    "name": "ipython",
    "version": 3
   },
   "file_extension": ".py",
   "mimetype": "text/x-python",
   "name": "python",
   "nbconvert_exporter": "python",
   "pygments_lexer": "ipython3",
   "version": "3.9.12"
  }
 },
 "nbformat": 4,
 "nbformat_minor": 5
}
